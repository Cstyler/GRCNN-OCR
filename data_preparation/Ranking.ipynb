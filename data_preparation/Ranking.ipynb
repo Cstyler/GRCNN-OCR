{
 "cells": [
  {
   "cell_type": "code",
   "execution_count": 1,
   "metadata": {},
   "outputs": [
    {
     "name": "stderr",
     "output_type": "stream",
     "text": [
      "/home/agazade/.conda/envs/main/lib/python3.7/site-packages/tqdm/autonotebook/__init__.py:14: TqdmExperimentalWarning: Using `tqdm.autonotebook.tqdm` in notebook mode. Use `tqdm.tqdm` instead to force console mode (e.g. in jupyter console)\n",
      "  \" (e.g. in jupyter console)\", TqdmExperimentalWarning)\n",
      "Using TensorFlow backend.\n"
     ]
    }
   ],
   "source": [
    "from pylibs.data_processing import ranking\n",
    "from pylibs.predictor import Predictor\n",
    "from pylibs.text_utils import levenshtein_distance_weighted\n",
    "from recognizer import ProductCodeRecognizer\n",
    "from pylibs import via_utils"
   ]
  },
  {
   "cell_type": "code",
   "execution_count": 2,
   "metadata": {},
   "outputs": [],
   "source": [
    "dataset_dir_path = \"/srv/data_science/storage/product_code_ocr\"\n",
    "noise_df_name = \"noise_processed\"\n",
    "relabel_df_name = \"relabel\"\n",
    "ideal_df_name = 'ideal'\n",
    "image_folder = \"images_train\"\n",
    "max_num_to_score = 30000\n",
    "total_size = 10000\n",
    "batch_size = 128\n",
    "bad_quantiles = (0, 0.3)\n",
    "normal_quantiles = (0.3, 0.8)\n",
    "good_quantiles = (0.8, 1)\n",
    "bad_percent = 30\n",
    "normal_percent = 20\n",
    "good_percent = 50\n",
    "split_dict = {\n",
    "    \"bounds\": {\n",
    "        \"bad\": bad_quantiles,\n",
    "        \"normal\": normal_quantiles,\n",
    "        \"good\": good_quantiles,\n",
    "    },\n",
    "    \"percentages\": {\"bad\": bad_percent, \"normal\": normal_percent, \"good\": good_percent},\n",
    "}\n",
    "\n",
    "\n",
    "def rel_leven_metric(machine, manual):\n",
    "    return 1 - levenshtein_distance_weighted(machine, manual, 1, 2, 1) / len(manual)\n",
    "\n",
    "metric_function = rel_leven_metric\n",
    "score_column = \"text\""
   ]
  },
  {
   "cell_type": "code",
   "execution_count": 3,
   "metadata": {},
   "outputs": [
    {
     "name": "stdout",
     "output_type": "stream",
     "text": [
      "WARNING:tensorflow:From /home/agazade/.conda/envs/main/lib/python3.7/site-packages/tensorflow/python/framework/op_def_library.py:263: colocate_with (from tensorflow.python.framework.ops) is deprecated and will be removed in a future version.\n",
      "Instructions for updating:\n",
      "Colocations handled automatically by placer.\n"
     ]
    }
   ],
   "source": [
    "model_path = '/srv/data_science/training/checkpoints/product_code_ocr/model3/epoch_80_val_loss0.052070.hdf5'\n",
    "predictor = ProductCodeRecognizer(model_path)"
   ]
  },
  {
   "cell_type": "code",
   "execution_count": 4,
   "metadata": {},
   "outputs": [
    {
     "name": "stdout",
     "output_type": "stream",
     "text": [
      "Bad image: /srv/data_science/storage/product_code_ocr/images_train/2/c/8/2c8fab5d7c957f6be00997e7750e7c76049bea32.jpg\n",
      "-2.0 1.0\n",
      "1.0 1.0\n",
      "1.0 1.0\n",
      "Part bad. Size 3000\n",
      "Part normal. Size 0\n",
      "Part good. Size 0\n",
      "Relabel df size: 3000\n",
      "Ideal df size: 0\n"
     ]
    }
   ],
   "source": [
    "ranking.split_train_dataset(\n",
    "    dataset_dir_path,\n",
    "    noise_df_name,\n",
    "    relabel_df_name,\n",
    "    ideal_df_name,\n",
    "    image_folder,\n",
    "    max_num_to_score,\n",
    "    total_size,\n",
    "    batch_size,\n",
    "    predictor,\n",
    "    split_dict,\n",
    "    metric_function,\n",
    "    score_column,\n",
    ")"
   ]
  },
  {
   "cell_type": "code",
   "execution_count": 11,
   "metadata": {},
   "outputs": [],
   "source": [
    "dataset_dir_path = '/srv/data_science/storage/product_code_ocr'\n",
    "df_name = 'relabel'\n",
    "image_dir_path = '/srv/data_science/storage/product_code_ocr/processed_images'\n",
    "task_name = 'task2'\n",
    "save_dir = f'/srv/data_science/storage/product_code_ocr/labeling_tasks/{task_name}'\n",
    "file_attributes_key = ('Код продукта', )\n",
    "df_column_names = ('text', )\n",
    "divide_size = 3000\n",
    "values_from_json = False\n",
    "image_save_dir = f'/opt/share-http/{task_name}'\n",
    "photo_id_sharding = False\n",
    "img_url_format = 'http://10.0.3.2:2000/%s/{tag_id}.jpg' % task_name"
   ]
  },
  {
   "cell_type": "code",
   "execution_count": 12,
   "metadata": {},
   "outputs": [],
   "source": [
    "via_utils.export_labels_to_via(\n",
    "    dataset_dir_path,\n",
    "    df_name,\n",
    "    image_dir_path,\n",
    "    save_dir,\n",
    "    file_attributes_key,\n",
    "    df_column_names,\n",
    "    divide_size,\n",
    "    values_from_json=values_from_json,\n",
    "    img_url_format=img_url_format,\n",
    "    image_save_dir=image_save_dir,\n",
    "    photo_id_sharding=photo_id_sharding,\n",
    ")"
   ]
  },
  {
   "cell_type": "code",
   "execution_count": 2,
   "metadata": {},
   "outputs": [],
   "source": [
    "dataset_dir_path = '/srv/data_science/storage/product_code_ocr/labeling_results/result2'\n",
    "file_attributes_key = ('Код продукта', )\n",
    "df_column_names = ('text', )\n",
    "save_df_name = 'relabel_via'"
   ]
  },
  {
   "cell_type": "code",
   "execution_count": 3,
   "metadata": {},
   "outputs": [],
   "source": [
    "via_utils.import_labels_from_via(dataset_dir_path, file_attributes_key, df_column_names, save_df_name)"
   ]
  },
  {
   "cell_type": "code",
   "execution_count": null,
   "metadata": {},
   "outputs": [],
   "source": []
  }
 ],
 "metadata": {
  "kernelspec": {
   "display_name": "Python 3",
   "language": "python",
   "name": "python3"
  },
  "language_info": {
   "codemirror_mode": {
    "name": "ipython",
    "version": 3
   },
   "file_extension": ".py",
   "mimetype": "text/x-python",
   "name": "python",
   "nbconvert_exporter": "python",
   "pygments_lexer": "ipython3",
   "version": "3.7.3"
  }
 },
 "nbformat": 4,
 "nbformat_minor": 4
}
