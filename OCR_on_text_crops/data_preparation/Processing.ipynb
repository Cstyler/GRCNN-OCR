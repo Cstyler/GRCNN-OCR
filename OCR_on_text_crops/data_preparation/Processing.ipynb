{
 "cells": [
  {
   "cell_type": "code",
   "execution_count": 2,
   "metadata": {},
   "outputs": [],
   "source": [
    "%load_ext autoreload\n",
    "%autoreload 2"
   ]
  },
  {
   "cell_type": "code",
   "execution_count": 3,
   "metadata": {},
   "outputs": [],
   "source": [
    "import sampling\n",
    "import image_processing\n",
    "import dataframe_processing\n",
    "from pylibs import via_utils\n",
    "from pathlib import Path\n",
    "import functools\n",
    "\n",
    "dataset_dir_path = Path('/srv/data_science/storage/product_code_ocr')"
   ]
  },
  {
   "cell_type": "code",
   "execution_count": 3,
   "metadata": {},
   "outputs": [],
   "source": [
    "df_name = 'noise'\n",
    "processed_df_name = 'noise_processed'\n",
    "img_dir = \"processed_images\"\n",
    "w_padding, h_padding = 1.15, 1.00\n",
    "debug = False"
   ]
  },
  {
   "cell_type": "code",
   "execution_count": 3,
   "metadata": {},
   "outputs": [
    {
     "data": {
      "application/vnd.jupyter.widget-view+json": {
       "model_id": "dab9f2a6a5ff4973926da236ac296747",
       "version_major": 2,
       "version_minor": 0
      },
      "text/plain": [
       "HBox(children=(IntProgress(value=0, max=158917), HTML(value='')))"
      ]
     },
     "metadata": {},
     "output_type": "display_data"
    },
    {
     "name": "stdout",
     "output_type": "stream",
     "text": [
      "\n"
     ]
    }
   ],
   "source": [
    "dataframe_processing.process(dataset_dir_path, df_name, processed_df_name, w_padding, h_padding, debug=debug)"
   ]
  },
  {
   "cell_type": "code",
   "execution_count": null,
   "metadata": {},
   "outputs": [],
   "source": [
    "df_name = 'fine'\n",
    "processed_df_name = 'fine_processed'\n",
    "dataframe_processing.process(dataset_dir_path, df_name, processed_df_name, w_padding, h_padding, debug=debug)"
   ]
  },
  {
   "cell_type": "code",
   "execution_count": 4,
   "metadata": {},
   "outputs": [],
   "source": [
    "df_name = 'oct_2019_fine'\n",
    "processed_df_name = 'oct_2019_fine_processed'\n",
    "img_dir = \"oct_2019_processed_images\"\n",
    "w_padding, h_padding = 1.15, 1.00\n",
    "debug = False"
   ]
  },
  {
   "cell_type": "code",
   "execution_count": 5,
   "metadata": {},
   "outputs": [
    {
     "data": {
      "application/vnd.jupyter.widget-view+json": {
       "model_id": "9d78f89ec3134e4ca3d0c5e2a484f85e",
       "version_major": 2,
       "version_minor": 0
      },
      "text/plain": [
       "HBox(children=(IntProgress(value=0, max=9984), HTML(value='')))"
      ]
     },
     "metadata": {},
     "output_type": "display_data"
    },
    {
     "name": "stdout",
     "output_type": "stream",
     "text": [
      "\n"
     ]
    }
   ],
   "source": [
    "dataframe_processing.process(dataset_dir_path, df_name, processed_df_name, img_dir, w_padding, h_padding, debug=debug)"
   ]
  },
  {
   "cell_type": "code",
   "execution_count": 3,
   "metadata": {},
   "outputs": [],
   "source": [
    "df_name = 'noise_processed'\n",
    "num = 5200\n",
    "save_df_name = 'noise_relabel'"
   ]
  },
  {
   "cell_type": "code",
   "execution_count": 4,
   "metadata": {},
   "outputs": [],
   "source": [
    "sampling.subsample_dataset(dataset_dir_path, df_name, num, save_df_name)"
   ]
  },
  {
   "cell_type": "code",
   "execution_count": 2,
   "metadata": {},
   "outputs": [],
   "source": [
    "df_name = 'noise_relabel'\n",
    "image_dir_path = '/srv/data_science/storage/product_code_ocr/processed_images'\n",
    "task_name = 'task2'\n",
    "save_dir = f'/srv/data_science/storage/product_code_ocr/labeling_tasks/{task_name}'\n",
    "file_attributes_key = ()\n",
    "df_column_names = ()\n",
    "divide_size = 300\n",
    "values_from_json = False\n",
    "image_save_dir = f'/opt/share-http/product_code_ocr/{task_name}'\n",
    "photo_id_sharding = False\n",
    "img_url_format = f'https://app.stg.metacommerce.ru/data-science/product_code_ocr/{task_name}/' + '{tag_id}.jpg'"
   ]
  },
  {
   "cell_type": "code",
   "execution_count": 8,
   "metadata": {},
   "outputs": [],
   "source": [
    "# df_name = 'test_relabel_11_20_len26'\n",
    "df_name = 'val_relabel_11_20_len26'\n",
    "image_dir_path = '/srv/data_science/storage/product_code_ocr/processed_images'\n",
    "task_name = 'task7'\n",
    "save_dir = f'/srv/data_science/storage/product_code_ocr/labeling_tasks/{task_name}'\n",
    "file_attributes_key = ('Код продукта', )\n",
    "df_column_names = ('text', )\n",
    "divide_size = 300\n",
    "values_from_json = False\n",
    "image_save_dir = f'/opt/share-http/product_code_ocr/{task_name}'\n",
    "photo_id_sharding = False\n",
    "img_url_format = f'https://app.stg.metacommerce.ru/data-science/product_code_ocr/{task_name}/' + '{tag_id}.jpg'"
   ]
  },
  {
   "cell_type": "code",
   "execution_count": 9,
   "metadata": {},
   "outputs": [],
   "source": [
    "via_utils.export_labels_to_via(\n",
    "    dataset_dir_path,\n",
    "    df_name,\n",
    "    image_dir_path,\n",
    "    save_dir,\n",
    "    file_attributes_key,\n",
    "    df_column_names,\n",
    "    divide_size,\n",
    "    values_from_json=values_from_json,\n",
    "    img_url_format=img_url_format,\n",
    "    image_save_dir=image_save_dir,\n",
    "    photo_id_sharding=photo_id_sharding,\n",
    ")"
   ]
  },
  {
   "cell_type": "code",
   "execution_count": 2,
   "metadata": {},
   "outputs": [],
   "source": [
    "df_name = 'fine_processed'\n",
    "image_dir_path = '/srv/data_science/storage/product_code_ocr/processed_images'\n",
    "save_dir = '/srv/data_science/storage/product_code_ocr/labeling_tasks/task1'\n",
    "file_attributes_key = ('Код продукта', )\n",
    "df_column_names = ('text', )\n",
    "divide_size = 300\n",
    "values_from_json = False\n",
    "image_save_dir = '/opt/share-http/product_code_ocr/task1'\n",
    "photo_id_sharding = False\n",
    "img_url_format = 'https://app.stg.metacommerce.ru/data-science/product_code_ocr/task1/{tag_id}.jpg'"
   ]
  },
  {
   "cell_type": "code",
   "execution_count": 22,
   "metadata": {},
   "outputs": [],
   "source": [
    "# relabel val\n",
    "df_name = 'train_10k_relabel'\n",
    "image_dir_path = '/srv/data_science/storage/product_code_ocr/cropped_images'\n",
    "save_dir = '/srv/data_science/storage/product_code_ocr/labeling_tasks/task5'\n",
    "file_attributes_key = ('Код продукта', )\n",
    "df_column_names = ('text', )\n",
    "divide_size = 300\n",
    "values_from_json = False\n",
    "image_save_dir = '/opt/share-http/product_code_ocr/task5'\n",
    "photo_id_sharding = False\n",
    "img_url_format = 'https://app.stg.metacommerce.ru/data-science/product_code_ocr/task5/{tag_id}.jpg'"
   ]
  },
  {
   "cell_type": "code",
   "execution_count": 24,
   "metadata": {},
   "outputs": [],
   "source": [
    "via_utils.export_labels_to_via(\n",
    "    dataset_dir_path,\n",
    "    df_name,\n",
    "    image_dir_path,\n",
    "    save_dir,\n",
    "    file_attributes_key,\n",
    "    df_column_names,\n",
    "    divide_size,\n",
    "    values_from_json=values_from_json,\n",
    "    img_url_format=img_url_format,\n",
    "    image_save_dir=image_save_dir,\n",
    "    photo_id_sharding=photo_id_sharding,\n",
    ")"
   ]
  },
  {
   "cell_type": "code",
   "execution_count": 26,
   "metadata": {},
   "outputs": [],
   "source": [
    "dataset_dir_path = '/srv/data_science/storage/product_code_ocr/labeling_results/task2'\n",
    "# file_attributes_key = ('Код продукта', )\n",
    "file_attributes_key = ()\n",
    "segment_key = 'rect'\n",
    "# segment_key = None\n",
    "# df_column_names = ('text', )\n",
    "df_column_names = ()\n",
    "# save_df_name = 'fine_processed_via'\n",
    "save_df_name = 'train_rectified'"
   ]
  },
  {
   "cell_type": "code",
   "execution_count": 33,
   "metadata": {},
   "outputs": [],
   "source": [
    "dataset_dir_path = '/srv/data_science/storage/product_code_ocr/labeling_results/task5'\n",
    "file_attributes_key = ('Код продукта', )\n",
    "segment_key = None\n",
    "df_column_names = ('text', )\n",
    "save_df_name = 'train_relabel_11_20'"
   ]
  },
  {
   "cell_type": "code",
   "execution_count": 34,
   "metadata": {},
   "outputs": [],
   "source": [
    "via_utils.import_labels_from_via(dataset_dir_path, file_attributes_key, df_column_names, save_df_name, segment_key)"
   ]
  },
  {
   "cell_type": "code",
   "execution_count": 28,
   "metadata": {},
   "outputs": [],
   "source": [
    "df_name = 'train_rectified'\n",
    "img_dir = \"images_rectified\"\n",
    "max_len = 26\n",
    "train_df_name = f'train_set_len{max_len}'\n",
    "save_df_name = f'rectified_set_len{max_len}'\n",
    "debug = False\n",
    "image_processing.crop_images(dataset_dir_path, df_name, iсеmg_dir, train_df_name, save_df_name, debug=debug)"
   ]
  },
  {
   "cell_type": "code",
   "execution_count": 3,
   "metadata": {},
   "outputs": [],
   "source": [
    "df_name = \"noise_processed\"\n",
    "# w, h = 200, 32\n",
    "# w, h = 128, 32\n",
    "w, h = 100, 32\n",
    "# img_dir = 'processed_images'\n",
    "img_dir = 'cropped_images'\n",
    "# save_img_dir = \"images_train3\"\n",
    "save_img_dir = f'cropped_images_train_size{w}x{h}'\n",
    "debug = False\n",
    "image_processing.resize_images(dataset_dir_path, df_name, img_dir, save_img_dir, w, h, debug=debug)\n",
    "df_name = \"fine_processed\"\n",
    "image_processing.resize_images(dataset_dir_path, df_name, img_dir, save_img_dir, w, h)"
   ]
  },
  {
   "cell_type": "code",
   "execution_count": 29,
   "metadata": {},
   "outputs": [],
   "source": [
    "max_len = 26\n",
    "df_name = f\"rectified_set_len{max_len}\"\n",
    "# w, h = 200, 32\n",
    "# w, h = 128, 32\n",
    "w, h = 100, 32\n",
    "save_img_dir = f'images_rectified_size{w}x{h}'\n",
    "img_dir = 'images_rectified'\n",
    "debug = False\n",
    "image_processing.resize_images(dataset_dir_path, df_name, img_dir, save_img_dir, w, h, debug=debug)"
   ]
  },
  {
   "cell_type": "code",
   "execution_count": 5,
   "metadata": {},
   "outputs": [
    {
     "data": {
      "application/vnd.jupyter.widget-view+json": {
       "model_id": "9f5261d1002243e1868594649fc96a23",
       "version_major": 2,
       "version_minor": 0
      },
      "text/plain": [
       "HBox(children=(IntProgress(value=0, max=2719), HTML(value='')))"
      ]
     },
     "metadata": {},
     "output_type": "display_data"
    },
    {
     "name": "stdout",
     "output_type": "stream",
     "text": [
      "\n"
     ]
    }
   ],
   "source": [
    "df_name = 'test_set_len26'\n",
    "width, height = 100, 32\n",
    "\n",
    "img_dir = 'cropped_images'\n",
    "save_img_dir = f'images_train_padding_size{width}x{height}'\n",
    "debug = False\n",
    "image_processing.resize_images_padding(dataset_dir_path, df_name, img_dir, save_img_dir, width, height, debug)"
   ]
  },
  {
   "cell_type": "code",
   "execution_count": 30,
   "metadata": {},
   "outputs": [
    {
     "name": "stdout",
     "output_type": "stream",
     "text": [
      "DF size: 5115\n",
      "size1: 4910\n",
      "size2: 205\n"
     ]
    }
   ],
   "source": [
    "test_size = .04\n",
    "max_len = 26\n",
    "df_name = f\"rectified_set_len{max_len}\"\n",
    "train_name = f\"rectified_train_set_len{max_len}\"\n",
    "val_name = f\"rectified_val_set_len{max_len}\"\n",
    "sampling.split_dataset(dataset_dir_path, df_name, test_size, train_name, val_name)"
   ]
  },
  {
   "cell_type": "code",
   "execution_count": 4,
   "metadata": {},
   "outputs": [
    {
     "name": "stdout",
     "output_type": "stream",
     "text": [
      "DF size: 5438\n",
      "size1: 2719\n",
      "size2: 2719\n"
     ]
    }
   ],
   "source": [
    "max_len = 26\n",
    "fine_df_name = f'fine_val_len{max_len}'\n",
    "val_set_name = f'val_set_len{max_len}'\n",
    "test_set_name = f'test_set_len{max_len}'\n",
    "test_size = .5\n",
    "sampling.split_dataset(dataset_dir_path, fine_df_name, test_size, val_set_name, test_set_name)"
   ]
  },
  {
   "cell_type": "code",
   "execution_count": 3,
   "metadata": {},
   "outputs": [
    {
     "name": "stdout",
     "output_type": "stream",
     "text": [
      "31 images were deleted\n"
     ]
    }
   ],
   "source": [
    "# df_name = 'noise'\n",
    "# old_df_name = 'noise3'\n",
    "# df_name = 'fine'\n",
    "# old_df_name = 'fine3'\n",
    "df_name = 'fine'\n",
    "old_df_name = 'oct_2019_fine'\n",
    "image_dir_path = '/srv/data_science/storage/product_code_ocr/processed_images'\n",
    "debug = False\n",
    "image_processing.remove_old_imgs(dataset_dir_path, df_name, old_df_name, image_dir_path, debug)"
   ]
  },
  {
   "cell_type": "code",
   "execution_count": 2,
   "metadata": {},
   "outputs": [],
   "source": [
    "df_name = \"oct_2019_fine\"\n",
    "df_name2 = \"oct_2019_fine_processed2\"\n",
    "key = \"photo.metaInfo.marketId\"\n",
    "dataframe_processing.add_column_to_df(dataset_dir_path, df_name, df_name2, key)"
   ]
  },
  {
   "cell_type": "code",
   "execution_count": 7,
   "metadata": {},
   "outputs": [],
   "source": [
    "max_text_len = 26\n",
    "df_name = \"fine\"\n",
    "df_name2 = f'test_set_len{max_text_len}'\n",
    "key = \"photo.metaInfo.marketId\"\n",
    "dataframe_processing.add_column_to_df(dataset_dir_path, df_name, df_name2, key)"
   ]
  },
  {
   "cell_type": "code",
   "execution_count": 5,
   "metadata": {},
   "outputs": [],
   "source": [
    "max_text_len = 26\n",
    "df_name = f'test_set_len{max_text_len}'\n",
    "modify_fun = functools.partial(dataframe_processing.rename_column, col_name='photo.metaInfo.marketId', new_col_name='market_id')\n",
    "dataframe_processing.modify_df(dataset_dir_path, df_name, modify_fun)"
   ]
  },
  {
   "cell_type": "code",
   "execution_count": 10,
   "metadata": {},
   "outputs": [],
   "source": [
    "# df_name = f'train_set_len{max_text_len}_filtered_2'\n",
    "# df_name2 = f'train_set_len{max_text_len}_filtered'\n",
    "df_name = f'val_set_len{max_text_len}_filtered_2'\n",
    "df_name2 = f'val_set_len{max_text_len}_filtered'\n",
    "key = 'char_freq'\n",
    "dataframe_processing.add_column_to_df(dataset_dir_path, df_name, df_name2, key)"
   ]
  },
  {
   "cell_type": "code",
   "execution_count": 2,
   "metadata": {},
   "outputs": [],
   "source": [
    "df_name = 'test_set'\n",
    "divide_size = 14\n",
    "save_df_name = 'test_set_google_bs_%s' % divide_size\n",
    "dataframe_processing.update_dataset_with_google_annotations(dataset_dir_path, df_name, save_df_name, divide_size)"
   ]
  },
  {
   "cell_type": "code",
   "execution_count": 1,
   "metadata": {},
   "outputs": [],
   "source": [
    "import dataframe_processing, image_processing\n",
    "from pathlib import Path\n",
    "dataset_dir_path = Path('/srv/data_science/storage/product_code_ocr')"
   ]
  },
  {
   "cell_type": "code",
   "execution_count": 4,
   "metadata": {},
   "outputs": [],
   "source": [
    "max_len = 26\n",
    "w, h = 100, 32\n",
    "# df_name =  f'train_set_len{max_len}'\n",
    "# save_df_name =  f'train_set_len{max_len}_filtered'\n",
    "# df_name =  f'val_set_len{max_len}'\n",
    "# save_df_name =  f'val_set_len{max_len}_filtered'\n",
    "df_name =  f'test_set_len{max_len}'\n",
    "save_df_name =  f'test_set_len{max_len}_filtered'\n",
    "img_dir = f'images_train_padding_size{w}x{h}'\n",
    "dataframe_processing.filter_df_by_img_existence(dataset_dir_path, df_name, img_dir, save_df_name)"
   ]
  },
  {
   "cell_type": "code",
   "execution_count": 3,
   "metadata": {},
   "outputs": [],
   "source": [
    "max_len = 26\n",
    "df_names = (('noise_processed', f'train_set_len{max_len}'), (f'test_set_len{max_len}', f'test_set_len{max_len}'), (f'val_set_len{max_len}', f'val_set_len{max_len}'))\n",
    "outlier_len = 18\n",
    "dataframe_processing.post_process_labels_model_grcnn(dataset_dir_path, df_names, max_len, outlier_len)"
   ]
  },
  {
   "cell_type": "code",
   "execution_count": 1,
   "metadata": {},
   "outputs": [],
   "source": [
    "import dataframe_processing, image_processing\n",
    "from pathlib import Path\n",
    "dataset_dir_path = Path('/srv/data_science/storage/product_code_ocr')"
   ]
  },
  {
   "cell_type": "code",
   "execution_count": 2,
   "metadata": {},
   "outputs": [],
   "source": [
    "max_len = 26\n",
    "df_names = [(f'train_relabel_11_20_len{max_len}', f'train_relabel_11_20_len{max_len}_2'),\n",
    "           (f'val_relabel_11_20_len{max_len}', f'val_relabel_11_20_len{max_len}_2'),\n",
    "           (f'test_relabel_11_20_len{max_len}', f'test_relabel_11_20_len{max_len}_2')]"
   ]
  },
  {
   "cell_type": "code",
   "execution_count": 3,
   "metadata": {},
   "outputs": [],
   "source": [
    "for df_name, new_df_name in df_names:\n",
    "    dataframe_processing.post_process_labels_model_freq(dataset_dir_path, df_name, new_df_name)"
   ]
  },
  {
   "cell_type": "code",
   "execution_count": 8,
   "metadata": {},
   "outputs": [],
   "source": [
    "max_text_len = 26\n",
    "# new_df_name = f'train_set_len{max_text_len}_filtered_2'\n",
    "# df_name = f'train_set_len{max_text_len}_filtered'\n",
    "new_df_name = f'val_set_len{max_text_len}_filtered_2'\n",
    "df_name = f'val_set_len{max_text_len}_filtered'"
   ]
  },
  {
   "cell_type": "code",
   "execution_count": 9,
   "metadata": {},
   "outputs": [],
   "source": [
    "dataframe_processing.post_process_labels_model_freq(dataset_dir_path, df_name, new_df_name)"
   ]
  },
  {
   "cell_type": "code",
   "execution_count": 3,
   "metadata": {},
   "outputs": [],
   "source": [
    "key = \"char_freq\"\n",
    "for df_name2, df_name in df_names:\n",
    "    dataframe_processing.add_column_to_df(dataset_dir_path, df_name, df_name2, key)"
   ]
  },
  {
   "cell_type": "code",
   "execution_count": 2,
   "metadata": {},
   "outputs": [],
   "source": [
    "# max_len = 51\n",
    "max_len = 26\n",
    "# max_len = 50\n",
    "# max_len = 33\n",
    "# df_names = (('noise_processed', f'train_set_len{max_len}'), )\n",
    "df_names = [('fine_processed_via', f'fine_val_len{max_len}')]\n",
    "# df_names = (('oct_2019_fine_processed', f'oct_2019_fine_processed2'), )\n",
    "outlier_len = 18\n",
    "dataframe_processing.post_process_labels_model_grcnn(dataset_dir_path, df_names, max_len, outlier_len)"
   ]
  },
  {
   "cell_type": "code",
   "execution_count": 3,
   "metadata": {},
   "outputs": [],
   "source": [
    "max_len = 26\n",
    "df_names = [\n",
    "    (\"train_relabel_11_20\", f\"train_relabel_11_20_len26\"),\n",
    "    (\"val_relabel_11_20\", f\"val_relabel_11_20_len26\"),\n",
    "    (\"test_relabel_11_20\", f\"test_relabel_11_20_len26\"),\n",
    "]\n",
    "outlier_len = 18\n",
    "dataframe_processing.post_process_labels_model_grcnn(\n",
    "    dataset_dir_path, df_names, max_len, outlier_len\n",
    ")"
   ]
  },
  {
   "cell_type": "code",
   "execution_count": null,
   "metadata": {},
   "outputs": [],
   "source": []
  }
 ],
 "metadata": {
  "kernelspec": {
   "display_name": "Python 3",
   "language": "python",
   "name": "python3"
  },
  "language_info": {
   "codemirror_mode": {
    "name": "ipython",
    "version": 3
   },
   "file_extension": ".py",
   "mimetype": "text/x-python",
   "name": "python",
   "nbconvert_exporter": "python",
   "pygments_lexer": "ipython3",
   "version": "3.7.6"
  }
 },
 "nbformat": 4,
 "nbformat_minor": 4
}
