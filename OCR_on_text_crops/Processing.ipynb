{
 "cells": [
  {
   "cell_type": "code",
   "execution_count": 1,
   "metadata": {},
   "outputs": [
    {
     "name": "stderr",
     "output_type": "stream",
     "text": [
      "Using TensorFlow backend.\n"
     ]
    }
   ],
   "source": [
    "from grcnn.processing import filter_bad_samples\n",
    "from pathlib import Path\n",
    "from grcnn.utils import find_best_model_path"
   ]
  },
  {
   "cell_type": "code",
   "execution_count": 2,
   "metadata": {},
   "outputs": [],
   "source": [
    "dataset_dir_path = '/srv/data_science/storage/product_code_ocr'\n",
    "max_text_len = 26\n",
    "w, h = 100, 32\n",
    "# df_name = f'test_set_len{max_text_len}'\n",
    "df_name = f'train_set_len{max_text_len}_filtered'\n",
    "save_df_name = f'train_set_len{max_text_len}_filtered2'\n",
    "model_num = 46\n",
    "model_dir = f'/srv/data_science/training/checkpoints/product_code_ocr/model{model_num}'\n",
    "epoch = find_best_model_path(Path(model_dir))\n",
    "batch_size = 80\n",
    "image_dir = f'images_train_padding_size{w}x{h}'"
   ]
  },
  {
   "cell_type": "code",
   "execution_count": 3,
   "metadata": {},
   "outputs": [
    {
     "name": "stdout",
     "output_type": "stream",
     "text": [
      "1987/1987 [==============================] - 297s 150ms/step\n"
     ]
    }
   ],
   "source": [
    "filter_bad_samples(dataset_dir_path, df_name, save_df_name, model_num, epoch, max_text_len, batch_size, image_dir)"
   ]
  },
  {
   "cell_type": "code",
   "execution_count": null,
   "metadata": {},
   "outputs": [],
   "source": []
  }
 ],
 "metadata": {
  "kernelspec": {
   "display_name": "Python 3",
   "language": "python",
   "name": "python3"
  },
  "language_info": {
   "codemirror_mode": {
    "name": "ipython",
    "version": 3
   },
   "file_extension": ".py",
   "mimetype": "text/x-python",
   "name": "python",
   "nbconvert_exporter": "python",
   "pygments_lexer": "ipython3",
   "version": "3.7.3"
  }
 },
 "nbformat": 4,
 "nbformat_minor": 4
}
