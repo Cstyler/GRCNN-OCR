{
 "cells": [
  {
   "cell_type": "code",
   "execution_count": 2,
   "metadata": {},
   "outputs": [],
   "source": [
    "import pandas as pd\n",
    "import numpy as np"
   ]
  },
  {
   "cell_type": "code",
   "execution_count": 59,
   "metadata": {},
   "outputs": [],
   "source": [
    "df = pd.read_csv(\"csv/fruits_vegetables_filtered.csv\")"
   ]
  },
  {
   "cell_type": "code",
   "execution_count": 60,
   "metadata": {},
   "outputs": [],
   "source": [
    "products_types_dict = dict(zip(df[\"Материал\"], df[\"Вид\"]))"
   ]
  },
  {
   "cell_type": "code",
   "execution_count": 63,
   "metadata": {},
   "outputs": [
    {
     "data": {
      "text/plain": [
       "161"
      ]
     },
     "execution_count": 63,
     "metadata": {},
     "output_type": "execute_result"
    }
   ],
   "source": [
    "len(set(products_types_dict.values()))"
   ]
  },
  {
   "cell_type": "code",
   "execution_count": 57,
   "metadata": {},
   "outputs": [
    {
     "data": {
      "text/plain": [
       "28682"
      ]
     },
     "execution_count": 57,
     "metadata": {},
     "output_type": "execute_result"
    }
   ],
   "source": [
    "df = pd.read_csv(\"csv/count_fruits_types.csv\")\n",
    "np.sum(df[\"Кол-во\"])"
   ]
  },
  {
   "cell_type": "code",
   "execution_count": 58,
   "metadata": {},
   "outputs": [
    {
     "data": {
      "text/plain": [
       "6598"
      ]
     },
     "execution_count": 58,
     "metadata": {},
     "output_type": "execute_result"
    }
   ],
   "source": [
    "df = pd.read_csv(\"csv/count_main_types.csv\")\n",
    "np.sum(df[\"Кол-во\"])"
   ]
  },
  {
   "cell_type": "code",
   "execution_count": 5,
   "metadata": {},
   "outputs": [],
   "source": [
    "df = pd.read_excel(\"csv/Список КСО пилот АнтиФрод.xlsx\")"
   ]
  },
  {
   "cell_type": "code",
   "execution_count": 9,
   "metadata": {},
   "outputs": [
    {
     "data": {
      "text/plain": [
       "[]"
      ]
     },
     "execution_count": 9,
     "metadata": {},
     "output_type": "execute_result"
    }
   ],
   "source": [
    "directories_names = ['AF_IMAGES', 'POS60-BO-Y242', 'POS601-BO-B327', 'POS602-BO-B327', 'POS610-BO-2060', 'POS613-BO-2060', 'POS65-BO-Y242', 'POS70-BO-5194', 'POS70-BO-Y242', 'POS71-BO-5194', 'POS71-BO-Y242', 'POS72-BO-5194', 'POS72-BO-Y242', 'POS73-BO-5194', 'POS72-BO-Y242', 'POS73-BO-5194']\n",
    "[x for x in df[\"КСО\"] if x not in directories_names]"
   ]
  },
  {
   "cell_type": "code",
   "execution_count": 34,
   "metadata": {},
   "outputs": [
    {
     "data": {
      "text/plain": [
       "1687"
      ]
     },
     "execution_count": 34,
     "metadata": {},
     "output_type": "execute_result"
    }
   ],
   "source": [
    "df[\"Материал\"].unique().size"
   ]
  },
  {
   "cell_type": "code",
   "execution_count": 64,
   "metadata": {},
   "outputs": [],
   "source": [
    "df = pd.read_csv(\"csv/main_products.csv\")"
   ]
  },
  {
   "cell_type": "code",
   "execution_count": 66,
   "metadata": {},
   "outputs": [
    {
     "data": {
      "text/plain": [
       "(165, 162, 259)"
      ]
     },
     "execution_count": 66,
     "metadata": {},
     "output_type": "execute_result"
    }
   ],
   "source": [
    "df[\"Classifier\"].unique().size,df[\"Classifier ID\"].unique().size, df[\"Материал\"].unique().size,"
   ]
  },
  {
   "cell_type": "code",
   "execution_count": 158,
   "metadata": {},
   "outputs": [
    {
     "name": "stdout",
     "output_type": "stream",
     "text": [
      "293 293\n",
      "NIVEA бритьё 100 мл 147 NIVEA крем 150мл\n",
      "NIVEA бритьё 200 мл 149 NIVEA крем 200 мл\n",
      "NIVEA бритьё 100 мл 147 NIVEA крем 150мл\n",
      "NIVEA дезодорант 150мл 147 NIVEA крем 150мл\n",
      "ARIEL Гель жидк.авт.капс.15шт 160 Пакет ПЯТЕРОЧКА 65х40см\n",
      "NIVEA крем 100мл 147 NIVEA крем 150мл\n"
     ]
    }
   ],
   "source": [
    "d = {}\n",
    "print(len(df[\"Classifier\"]), len(df[\"Classifier ID\"]))\n",
    "for x, y in zip(df[\"Classifier\"], df[\"Classifier ID\"]):\n",
    "    if np.isnan(y):\n",
    "        continue\n",
    "    k = int(y)\n",
    "    if k in d:\n",
    "        if d[k] != x:\n",
    "            print(x, y, d[k])\n",
    "    else:\n",
    "        d[k] = x"
   ]
  },
  {
   "cell_type": "code",
   "execution_count": 156,
   "metadata": {},
   "outputs": [
    {
     "name": "stdout",
     "output_type": "stream",
     "text": [
      "196\n"
     ]
    }
   ],
   "source": [
    "found_inds = [3931836, 2157514, 3157836, 3147882, 39229, 17342, 78005190, 3608163, 53715, 3300573, 22247, 58772, 4113532, 3387522, 4147337, 2160069, 4110633, 3948153, 3926818, 3158299, 2173555, 3215871, 4109505, 3658915, 4055071, 3490518, 3645324, 3368350, 3672506, 3173468, 4046890, 3605249, 3505362, 3490517, 3490515, 3626, 3681277, 4057613, 3977825, 78001656, 26764, 3450510, 78004335, 3670270, 17333, 3483271, 2091079, 3612680, 3215967, 4087692, 58130, 3335498, 4118488, 3468684, 3426468, 3690250, 3667740, 45557, 2155446, 47804, 3631392, 3670271, 3230973, 2046823, 4063188, 3170308, 78004334, 4062968, 18162, 4038642, 3921037, 3385926, 3640459, 4046889, 16615, 3372172, 4075001, 3612778, 2119252, 3335495, 3033907, 3215964, 3656964, 3608140, 1671, 3426717, 32120, 4155150, 78004336, 3923407, 3413519, 4086974, 3453873, 3602960, 3384810, 3408128, 4087690, 3369648, 3954445, 3426714, 3372171, 3426718, 3247323, 3026226, 3368036, 3276160, 3299590, 3421898, 36145, 3456559, 3330267, 69449, 3152415, 85038, 3011966, 65459, 3482562, 3658479, 3013914, 2092382, 3959469, 3491232, 3148662, 4017564, 3173397, 3009353, 3331436, 3303305, 3413267, 4026294, 3246199, 3001429, 2152581, 3456703, 72110, 3353040, 4118001, 3928172, 3902643, 2087270, 4053537, 4053803, 3608921, 3680750, 3490519, 3907200, 3958549, 21473, 4074334, 25448, 22245, 3650391, 24705, 3488763, 2141879, 3291822, 2143227, 2143238, 3464124, 3464123, 4041216, 3443259, 3086387, 4066098, 3961640, 3332434, 3685054, 3654717, 4075005, 70479, 2153521, 32595, 5299, 3412336, 3381541, 3387455, 4075424, 3958355, 4157248, 3428594, 22924, 4025409, 64681, 4086976, 3930255, 3985079, 22248, 11734, 3427180, 3915823, 27062, 3465904, 3652398, 22246, 3441557, 4104566]\n",
    "print(len(found_inds))\n",
    "found_classes = [df.loc[df[\"Материал\"] == ind][\"Classifier\"].iloc[0] for ind in found_inds]\n"
   ]
  },
  {
   "cell_type": "code",
   "execution_count": 157,
   "metadata": {},
   "outputs": [
    {
     "data": {
      "text/plain": [
       "124"
      ]
     },
     "execution_count": 157,
     "metadata": {},
     "output_type": "execute_result"
    }
   ],
   "source": [
    "np.unique(found_classes).size"
   ]
  },
  {
   "cell_type": "code",
   "execution_count": 4,
   "metadata": {},
   "outputs": [
    {
     "data": {
      "text/html": [
       "<div>\n",
       "<style scoped>\n",
       "    .dataframe tbody tr th:only-of-type {\n",
       "        vertical-align: middle;\n",
       "    }\n",
       "\n",
       "    .dataframe tbody tr th {\n",
       "        vertical-align: top;\n",
       "    }\n",
       "\n",
       "    .dataframe thead th {\n",
       "        text-align: right;\n",
       "    }\n",
       "</style>\n",
       "<table border=\"1\" class=\"dataframe\">\n",
       "  <thead>\n",
       "    <tr style=\"text-align: right;\">\n",
       "      <th></th>\n",
       "      <th>Материал</th>\n",
       "      <th>Товар</th>\n",
       "      <th>Категор. управление (НА)</th>\n",
       "      <th>Classifier</th>\n",
       "      <th>Classifier ID</th>\n",
       "      <th>Class 1</th>\n",
       "      <th>Class 2</th>\n",
       "    </tr>\n",
       "  </thead>\n",
       "  <tbody>\n",
       "    <tr>\n",
       "      <th>270</th>\n",
       "      <td>3300573</td>\n",
       "      <td>Пакет ПЯТЕРОЧКА 65х40см</td>\n",
       "      <td>Сопутствующие товары</td>\n",
       "      <td>Пакет ПЯТЕРОЧКА 65х40см</td>\n",
       "      <td>160</td>\n",
       "      <td>NaN</td>\n",
       "      <td>NaN</td>\n",
       "    </tr>\n",
       "  </tbody>\n",
       "</table>\n",
       "</div>"
      ],
      "text/plain": [
       "     Материал                    Товар Категор. управление (НА)  \\\n",
       "270   3300573  Пакет ПЯТЕРОЧКА 65х40см     Сопутствующие товары   \n",
       "\n",
       "                  Classifier  Classifier ID Class 1 Class 2  \n",
       "270  Пакет ПЯТЕРОЧКА 65х40см            160     NaN     NaN  "
      ]
     },
     "execution_count": 4,
     "metadata": {},
     "output_type": "execute_result"
    }
   ],
   "source": [
    "df.loc[df[\"Материал\"] == 3300573]"
   ]
  },
  {
   "cell_type": "code",
   "execution_count": 5,
   "metadata": {},
   "outputs": [
    {
     "data": {
      "text/html": [
       "<div>\n",
       "<style scoped>\n",
       "    .dataframe tbody tr th:only-of-type {\n",
       "        vertical-align: middle;\n",
       "    }\n",
       "\n",
       "    .dataframe tbody tr th {\n",
       "        vertical-align: top;\n",
       "    }\n",
       "\n",
       "    .dataframe thead th {\n",
       "        text-align: right;\n",
       "    }\n",
       "</style>\n",
       "<table border=\"1\" class=\"dataframe\">\n",
       "  <thead>\n",
       "    <tr style=\"text-align: right;\">\n",
       "      <th></th>\n",
       "      <th>Материал</th>\n",
       "      <th>Товар</th>\n",
       "      <th>Категор. управление (НА)</th>\n",
       "      <th>Classifier</th>\n",
       "      <th>Classifier ID</th>\n",
       "      <th>Class 1</th>\n",
       "      <th>Class 2</th>\n",
       "    </tr>\n",
       "  </thead>\n",
       "  <tbody>\n",
       "    <tr>\n",
       "      <th>178</th>\n",
       "      <td>3931836</td>\n",
       "      <td>ADREN.RUSH Напиток тон.б/алк.газ.0,449л</td>\n",
       "      <td>Напитки</td>\n",
       "      <td>Напиток ADREN.RUSH 0,449л большой</td>\n",
       "      <td>118</td>\n",
       "      <td>Энергетический напиток</td>\n",
       "      <td>NaN</td>\n",
       "    </tr>\n",
       "    <tr>\n",
       "      <th>247</th>\n",
       "      <td>3931836</td>\n",
       "      <td>ADREN.RUSH Напиток тон.б/алк.газ.0,449л</td>\n",
       "      <td>Соки, воды, пиво</td>\n",
       "      <td>Напиток ADREN.RUSH 0,449л большой</td>\n",
       "      <td>118</td>\n",
       "      <td>Энергетический напиток</td>\n",
       "      <td>NaN</td>\n",
       "    </tr>\n",
       "  </tbody>\n",
       "</table>\n",
       "</div>"
      ],
      "text/plain": [
       "     Материал                                    Товар  \\\n",
       "178   3931836  ADREN.RUSH Напиток тон.б/алк.газ.0,449л   \n",
       "247   3931836  ADREN.RUSH Напиток тон.б/алк.газ.0,449л   \n",
       "\n",
       "    Категор. управление (НА)                         Classifier  \\\n",
       "178                  Напитки  Напиток ADREN.RUSH 0,449л большой   \n",
       "247         Соки, воды, пиво  Напиток ADREN.RUSH 0,449л большой   \n",
       "\n",
       "     Classifier ID                 Class 1 Class 2  \n",
       "178            118  Энергетический напиток     NaN  \n",
       "247            118  Энергетический напиток     NaN  "
      ]
     },
     "execution_count": 5,
     "metadata": {},
     "output_type": "execute_result"
    }
   ],
   "source": [
    "df.loc[df[\"Материал\"] == 3931836]"
   ]
  },
  {
   "cell_type": "code",
   "execution_count": 18,
   "metadata": {},
   "outputs": [
    {
     "data": {
      "text/plain": [
       "267"
      ]
     },
     "execution_count": 18,
     "metadata": {},
     "output_type": "execute_result"
    }
   ],
   "source": [
    "df[\"Материал\"].unique().size"
   ]
  }
 ],
 "metadata": {
  "kernelspec": {
   "display_name": "Python 3.8.5 ('base')",
   "language": "python",
   "name": "python3"
  },
  "language_info": {
   "codemirror_mode": {
    "name": "ipython",
    "version": 3
   },
   "file_extension": ".py",
   "mimetype": "text/x-python",
   "name": "python",
   "nbconvert_exporter": "python",
   "pygments_lexer": "ipython3",
   "version": "3.8.5"
  },
  "vscode": {
   "interpreter": {
    "hash": "d4d1e4263499bec80672ea0156c357c1ee493ec2b1c70f0acce89fc37c4a6abe"
   }
  }
 },
 "nbformat": 4,
 "nbformat_minor": 4
}
