{
 "cells": [
  {
   "cell_type": "code",
   "execution_count": 1,
   "metadata": {},
   "outputs": [],
   "source": [
    "from pathlib import Path"
   ]
  },
  {
   "cell_type": "code",
   "execution_count": 2,
   "metadata": {},
   "outputs": [
    {
     "name": "stdout",
     "output_type": "stream",
     "text": [
      "env: PYTHONPATH=/srv/data_science/libraries/python-libs/:ssd_mobilenet:ssd_mobilenet/slim\n"
     ]
    }
   ],
   "source": [
    "path = %env PYTHONPATH\n",
    "%set_env PYTHONPATH=$path:ssd_mobilenet:ssd_mobilenet/slim"
   ]
  },
  {
   "cell_type": "code",
   "execution_count": 4,
   "metadata": {},
   "outputs": [],
   "source": [
    "# model_dir = '/srv/data_science/training/checkpoints/mobile_detection/model1'\n",
    "model_dir = '/srv/data_science/training/checkpoints/mobile_detection/model2'\n",
    "\n",
    "config = '/srv/data_science/training/code/mobile_detection/ssd_mobilenet/ssd_mobilenet/configs/ssdlite_mobilenet_v3_large_1.config'"
   ]
  },
  {
   "cell_type": "code",
   "execution_count": null,
   "metadata": {},
   "outputs": [],
   "source": [
    "model_dir = '/srv/data_science/training/checkpoints/mobile_detection/model3'\n",
    "config = '/srv/data_science/training/code/mobile_detection/ssd_mobilenet/ssd_mobilenet/configs/ssdlite_mobilenet_v3_large_2.config'"
   ]
  },
  {
   "cell_type": "code",
   "execution_count": 3,
   "metadata": {},
   "outputs": [],
   "source": [
    "model_dir = '/srv/data_science/training/checkpoints/mobile_detection/model4'\n",
    "config = '/srv/data_science/training/code/mobile_detection/ssd_mobilenet/ssd_mobilenet/configs/ssdlite_mobilenet_v3_large_3.config'\n",
    "# config = '/srv/data_science/training/code/mobile_detection/ssd_mobilenet/ssd_mobilenet/configs/ssdlite_mobilenet_v3_large_2.config'"
   ]
  },
  {
   "cell_type": "code",
   "execution_count": null,
   "metadata": {},
   "outputs": [],
   "source": [
    "!python ssd_mobilenet/object_detection/model_main.py --model_dir $model_dir --pipeline_config_path $config > output.txt 2> errors.txt"
   ]
  },
  {
   "cell_type": "code",
   "execution_count": null,
   "metadata": {},
   "outputs": [],
   "source": [
    "!python ssd_mobilenet/object_detection/legacy/train.py --logtostderr --train_dir $model_dir --pipeline_config_path $config > output.txt 2> errors.txt"
   ]
  },
  {
   "cell_type": "code",
   "execution_count": null,
   "metadata": {},
   "outputs": [],
   "source": []
  }
 ],
 "metadata": {
  "kernelspec": {
   "display_name": "Python 3",
   "language": "python",
   "name": "python3"
  },
  "language_info": {
   "codemirror_mode": {
    "name": "ipython",
    "version": 3
   },
   "file_extension": ".py",
   "mimetype": "text/x-python",
   "name": "python",
   "nbconvert_exporter": "python",
   "pygments_lexer": "ipython3",
   "version": "3.7.6"
  }
 },
 "nbformat": 4,
 "nbformat_minor": 4
}
