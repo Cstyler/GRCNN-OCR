{
 "cells": [
  {
   "cell_type": "code",
   "execution_count": 1,
   "metadata": {},
   "outputs": [],
   "source": [
    "%load_ext autoreload\n",
    "%autoreload 2"
   ]
  },
  {
   "cell_type": "code",
   "execution_count": 2,
   "metadata": {},
   "outputs": [
    {
     "name": "stderr",
     "output_type": "stream",
     "text": [
      "/home/agazade/.conda/envs/main/lib/python3.7/site-packages/tensorflow/python/framework/dtypes.py:516: FutureWarning: Passing (type, 1) or '1type' as a synonym of type is deprecated; in a future version of numpy, it will be understood as (type, (1,)) / '(1,)type'.\n",
      "  _np_qint8 = np.dtype([(\"qint8\", np.int8, 1)])\n",
      "/home/agazade/.conda/envs/main/lib/python3.7/site-packages/tensorflow/python/framework/dtypes.py:517: FutureWarning: Passing (type, 1) or '1type' as a synonym of type is deprecated; in a future version of numpy, it will be understood as (type, (1,)) / '(1,)type'.\n",
      "  _np_quint8 = np.dtype([(\"quint8\", np.uint8, 1)])\n",
      "/home/agazade/.conda/envs/main/lib/python3.7/site-packages/tensorflow/python/framework/dtypes.py:518: FutureWarning: Passing (type, 1) or '1type' as a synonym of type is deprecated; in a future version of numpy, it will be understood as (type, (1,)) / '(1,)type'.\n",
      "  _np_qint16 = np.dtype([(\"qint16\", np.int16, 1)])\n",
      "/home/agazade/.conda/envs/main/lib/python3.7/site-packages/tensorflow/python/framework/dtypes.py:519: FutureWarning: Passing (type, 1) or '1type' as a synonym of type is deprecated; in a future version of numpy, it will be understood as (type, (1,)) / '(1,)type'.\n",
      "  _np_quint16 = np.dtype([(\"quint16\", np.uint16, 1)])\n",
      "/home/agazade/.conda/envs/main/lib/python3.7/site-packages/tensorflow/python/framework/dtypes.py:520: FutureWarning: Passing (type, 1) or '1type' as a synonym of type is deprecated; in a future version of numpy, it will be understood as (type, (1,)) / '(1,)type'.\n",
      "  _np_qint32 = np.dtype([(\"qint32\", np.int32, 1)])\n",
      "/home/agazade/.conda/envs/main/lib/python3.7/site-packages/tensorflow/python/framework/dtypes.py:525: FutureWarning: Passing (type, 1) or '1type' as a synonym of type is deprecated; in a future version of numpy, it will be understood as (type, (1,)) / '(1,)type'.\n",
      "  np_resource = np.dtype([(\"resource\", np.ubyte, 1)])\n",
      "/home/agazade/.conda/envs/main/lib/python3.7/site-packages/tensorboard/compat/tensorflow_stub/dtypes.py:541: FutureWarning: Passing (type, 1) or '1type' as a synonym of type is deprecated; in a future version of numpy, it will be understood as (type, (1,)) / '(1,)type'.\n",
      "  _np_qint8 = np.dtype([(\"qint8\", np.int8, 1)])\n",
      "/home/agazade/.conda/envs/main/lib/python3.7/site-packages/tensorboard/compat/tensorflow_stub/dtypes.py:542: FutureWarning: Passing (type, 1) or '1type' as a synonym of type is deprecated; in a future version of numpy, it will be understood as (type, (1,)) / '(1,)type'.\n",
      "  _np_quint8 = np.dtype([(\"quint8\", np.uint8, 1)])\n",
      "/home/agazade/.conda/envs/main/lib/python3.7/site-packages/tensorboard/compat/tensorflow_stub/dtypes.py:543: FutureWarning: Passing (type, 1) or '1type' as a synonym of type is deprecated; in a future version of numpy, it will be understood as (type, (1,)) / '(1,)type'.\n",
      "  _np_qint16 = np.dtype([(\"qint16\", np.int16, 1)])\n",
      "/home/agazade/.conda/envs/main/lib/python3.7/site-packages/tensorboard/compat/tensorflow_stub/dtypes.py:544: FutureWarning: Passing (type, 1) or '1type' as a synonym of type is deprecated; in a future version of numpy, it will be understood as (type, (1,)) / '(1,)type'.\n",
      "  _np_quint16 = np.dtype([(\"quint16\", np.uint16, 1)])\n",
      "/home/agazade/.conda/envs/main/lib/python3.7/site-packages/tensorboard/compat/tensorflow_stub/dtypes.py:545: FutureWarning: Passing (type, 1) or '1type' as a synonym of type is deprecated; in a future version of numpy, it will be understood as (type, (1,)) / '(1,)type'.\n",
      "  _np_qint32 = np.dtype([(\"qint32\", np.int32, 1)])\n",
      "/home/agazade/.conda/envs/main/lib/python3.7/site-packages/tensorboard/compat/tensorflow_stub/dtypes.py:550: FutureWarning: Passing (type, 1) or '1type' as a synonym of type is deprecated; in a future version of numpy, it will be understood as (type, (1,)) / '(1,)type'.\n",
      "  np_resource = np.dtype([(\"resource\", np.ubyte, 1)])\n"
     ]
    }
   ],
   "source": [
    "import tensorflow as tf\n",
    "from ilio import fread\n",
    "from pathlib import Path\n",
    "from ssd_mobilenet import metrics"
   ]
  },
  {
   "cell_type": "code",
   "execution_count": 5,
   "metadata": {},
   "outputs": [],
   "source": [
    "# model_path = '/srv/data_science/training/checkpoints/mobile_detection/model2/pretrain_model2/tag_detector.tflite'\n",
    "model_path = '/srv/data_science/training/checkpoints/mobile_detection/model3/pretrain_model1/tag_detector_optimized.tflite'\n",
    "\n",
    "base_dir = Path('/srv/data_science/storage/mobile_detection')\n",
    "\n",
    "dataset_dir_path = base_dir / \"dataframes\"\n",
    "\n",
    "img_dir = base_dir / 'imgs'\n",
    "\n",
    "df_name = 'val_set1'\n",
    "\n",
    "resize_shape = (320, 320)\n",
    "iou_threshold = .4\n",
    "num_filter = lambda x: x >= 2\n",
    "debug = 0\n",
    "n = 1000"
   ]
  },
  {
   "cell_type": "code",
   "execution_count": null,
   "metadata": {},
   "outputs": [
    {
     "data": {
      "application/vnd.jupyter.widget-view+json": {
       "model_id": "6e69e3ffbf674099915a7f2fbb422f96",
       "version_major": 2,
       "version_minor": 0
      },
      "text/plain": [
       "HBox(children=(IntProgress(value=0, max=10000), HTML(value='')))"
      ]
     },
     "metadata": {},
     "output_type": "display_data"
    }
   ],
   "source": [
    "df_name = 'train'\n",
    "base_dir = Path('/opt/data_sets/detection')\n",
    "img_dir = base_dir / 'processed_images'\n",
    "dataset_dir_path = base_dir / 'training'\n",
    "img_format = 'png'\n",
    "num_filter = lambda x: x <= 2\n",
    "metrics.run_model(dataset_dir_path, df_name, model_path, img_dir, resize_shape, iou_threshold, num_filter, from_polygon=True, img_format=img_format)"
   ]
  },
  {
   "cell_type": "code",
   "execution_count": 7,
   "metadata": {},
   "outputs": [
    {
     "data": {
      "application/vnd.jupyter.widget-view+json": {
       "model_id": "607746abee564461bfe37cf1e9ec8340",
       "version_major": 2,
       "version_minor": 0
      },
      "text/plain": [
       "HBox(children=(IntProgress(value=0, max=410), HTML(value='')))"
      ]
     },
     "metadata": {},
     "output_type": "display_data"
    },
    {
     "name": "stdout",
     "output_type": "stream",
     "text": [
      "\n",
      "{'not_found_counter': 29, 'extra_detection_counter': 12, 'bigger_and_contains_counter': 347, 'total_true_counter': 473, 'total_rec_counter': 456, 'iou_l50': 6, 'iou_l80_g50': 34, 'iou_l100_g80': 57, 'hard_metric': 0.8541, 'middle_metric': 0.926, 'easy_metric': 0.9387, 'num_of_photos_analysed': 410, 'extra_detection_per': 0.0263, 'precision': 0.9733, 'recall': 0.9379, 'f_beta_score': 0.966}\n"
     ]
    }
   ],
   "source": [
    "df_name = 'test_set1'\n",
    "metrics.run_model(dataset_dir_path, df_name, model_path, img_dir, resize_shape, iou_threshold, debug=debug)"
   ]
  },
  {
   "cell_type": "code",
   "execution_count": null,
   "metadata": {},
   "outputs": [],
   "source": [
    "df_name = 'train_set1'\n",
    "metrics.run_model(dataset_dir_path, df_name, model_path, img_dir, resize_shape, iou_threshold)"
   ]
  },
  {
   "cell_type": "code",
   "execution_count": 6,
   "metadata": {},
   "outputs": [
    {
     "data": {
      "application/vnd.jupyter.widget-view+json": {
       "model_id": "538e28699114458ab25582d7f62e7c55",
       "version_major": 2,
       "version_minor": 0
      },
      "text/plain": [
       "HBox(children=(IntProgress(value=0, max=614), HTML(value='')))"
      ]
     },
     "metadata": {},
     "output_type": "display_data"
    },
    {
     "name": "stdout",
     "output_type": "stream",
     "text": [
      "\n",
      "{'not_found_counter': 59, 'extra_detection_counter': 26, 'bigger_and_contains_counter': 523, 'total_true_counter': 701, 'total_rec_counter': 668, 'iou_l50': 12, 'iou_l80_g50': 41, 'iou_l100_g80': 66, 'hard_metric': 0.8402, 'middle_metric': 0.8987, 'easy_metric': 0.9158, 'num_of_photos_analysed': 614, 'extra_detection_per': 0.0389, 'precision': 0.9604, 'recall': 0.9144, 'f_beta_score': 0.9508}\n"
     ]
    }
   ],
   "source": [
    "df_name = 'val_set1'\n",
    "metrics.run_model(dataset_dir_path, df_name, model_path, img_dir, resize_shape, iou_threshold, debug=debug)"
   ]
  },
  {
   "cell_type": "code",
   "execution_count": 25,
   "metadata": {},
   "outputs": [],
   "source": [
    "!saved_model_cli show --dir $model_dir --signature_def serving_default 2> /dev/null"
   ]
  },
  {
   "cell_type": "code",
   "execution_count": null,
   "metadata": {},
   "outputs": [],
   "source": []
  },
  {
   "cell_type": "code",
   "execution_count": 13,
   "metadata": {},
   "outputs": [],
   "source": [
    "import os\n",
    "os.environ[\"CUDA_VISIBLE_DEVICES\"] = \"-1\""
   ]
  },
  {
   "cell_type": "code",
   "execution_count": 14,
   "metadata": {},
   "outputs": [
    {
     "name": "stdout",
     "output_type": "stream",
     "text": [
      "env: PYTHONPATH=/srv/data_science/libraries/python-libs/:ssd_mobilenet:ssd_mobilenet/slim\n"
     ]
    }
   ],
   "source": [
    "path = %env PYTHONPATH\n",
    "%set_env PYTHONPATH=$path:ssd_mobilenet:ssd_mobilenet/slim"
   ]
  },
  {
   "cell_type": "code",
   "execution_count": 15,
   "metadata": {},
   "outputs": [],
   "source": [
    "model_dir = '/srv/data_science/training/checkpoints/mobile_detection/model2/pretrain_model2/inf_graph.pb/saved_model.pb'\n",
    "config = '/srv/data_science/training/code/mobile_detection/ssd_mobilenet/ssd_mobilenet/configs/ssdlite_mobilenet_v3_large_1.config'\n",
    "eval_dir = '/srv/data_science/training/code/mobile_detection/ssd_mobilenet/eval_results'"
   ]
  },
  {
   "cell_type": "code",
   "execution_count": 17,
   "metadata": {},
   "outputs": [
    {
     "name": "stdout",
     "output_type": "stream",
     "text": [
      "^C\n"
     ]
    }
   ],
   "source": [
    "!python ssd_mobilenet/object_detection/model_main.py --model_dir $model_dir --pipeline_config_path $config --checkpoint_dir $model_dir > output2.txt 2> errors2.txt"
   ]
  },
  {
   "cell_type": "code",
   "execution_count": 18,
   "metadata": {},
   "outputs": [
    {
     "name": "stdout",
     "output_type": "stream",
     "text": [
      "^C\n"
     ]
    }
   ],
   "source": [
    "!python ssd_mobilenet/object_detection/legacy/eval.py --eval_dir $eval_dir --pipeline_config_path $config --checkpoint_dir $model_dir > output2.txt 2> errors2.txt"
   ]
  },
  {
   "cell_type": "code",
   "execution_count": null,
   "metadata": {},
   "outputs": [],
   "source": []
  }
 ],
 "metadata": {
  "kernelspec": {
   "display_name": "Python 3",
   "language": "python",
   "name": "python3"
  },
  "language_info": {
   "codemirror_mode": {
    "name": "ipython",
    "version": 3
   },
   "file_extension": ".py",
   "mimetype": "text/x-python",
   "name": "python",
   "nbconvert_exporter": "python",
   "pygments_lexer": "ipython3",
   "version": "3.7.6"
  }
 },
 "nbformat": 4,
 "nbformat_minor": 4
}
