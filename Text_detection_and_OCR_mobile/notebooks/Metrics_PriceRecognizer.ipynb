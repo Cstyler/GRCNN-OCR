{
 "cells": [
  {
   "cell_type": "code",
   "execution_count": 1,
   "metadata": {},
   "outputs": [],
   "source": [
    "gpu = True\n",
    "gpu = False\n",
    "if gpu:\n",
    "    from tools.utils import enableGPU, allow_growth\n",
    "    gpu_id = 0\n",
    "    enableGPU(gpu_id)\n",
    "    allow_growth()\n",
    "else:\n",
    "    from tools.utils import disableGPU\n",
    "    disableGPU()\n",
    "    \n",
    "import warnings\n",
    "warnings.filterwarnings(\"ignore\", \"\", RuntimeWarning)\n",
    "warnings.filterwarnings(\"ignore\", \"\", FutureWarning)\n",
    "from validation.find_price_validation import calc_val_metrics_many_prices"
   ]
  },
  {
   "cell_type": "code",
   "execution_count": 20,
   "metadata": {},
   "outputs": [],
   "source": [
    "# suffix = \"train\"\n",
    "# suffix = \"test\"\n",
    "suffix = \"test_2\"\n",
    "# suffix = \"train_2\"\n",
    "img_list_filename = f\"union_companies_imgs_{suffix}\"\n",
    "\n",
    "prices_filename = f\"union_companies_prices_{suffix}\"\n",
    "\n",
    "# version = 'v9'\n",
    "version = 'v11'\n",
    "# version = 'v6'\n",
    "save_pickle = f\"union_companies_labels_{suffix}-pred-boxes-{version}\"\n",
    "# save_pickle = f\"union_companies_labels_test-pred-boxes-{version}-resized\"\n",
    "# save_pickle = f\"union_companies_labels_test-pred-boxes-{version}-resized2\"\n",
    "\n",
    "algo_params = None\n",
    "enhance = None\n",
    "# ids = [137]\n",
    "ids=None"
   ]
  },
  {
   "cell_type": "code",
   "execution_count": 21,
   "metadata": {},
   "outputs": [
    {
     "name": "stderr",
     "output_type": "stream",
     "text": [
      "100%|██████████| 2025/2025 [00:01<00:00, 1021.02it/s]\n"
     ]
    }
   ],
   "source": [
    "metrics = calc_val_metrics_many_prices(img_list_filename, prices_filename,\n",
    "                                    algo_params, version, enhance, save_pickle=save_pickle, gpu=gpu, show=0, tqdm_enable=1, ids=ids)"
   ]
  },
  {
   "cell_type": "code",
   "execution_count": 22,
   "metadata": {},
   "outputs": [
    {
     "name": "stdout",
     "output_type": "stream",
     "text": [
      "soft_metrics: 86.209, hard_metrics: 58.428, soft_det_metrics: 92.210, hard_det_metrics: 87.281\n",
      "Num good detections: 629\n"
     ]
    }
   ],
   "source": [
    "# v9 pha rams. default\n",
    "print(\"soft_metrics: %.3f, hard_metrics: %.3f, soft_det_metrics: %.3f, hard_det_metrics: %.3f\" % tuple([x * 100 for x in metrics[:-1]]))\n",
    "print(\"Num good detections:\", metrics[-1])"
   ]
  },
  {
   "cell_type": "code",
   "execution_count": 19,
   "metadata": {},
   "outputs": [
    {
     "name": "stdout",
     "output_type": "stream",
     "text": [
      "soft_metrics: 86.060, hard_metrics: 58.428, soft_det_metrics: 92.051, hard_det_metrics: 87.440\n",
      "Num good detections: 629\n"
     ]
    }
   ],
   "source": [
    "# v9 pha rams. default\n",
    "print(\"soft_metrics: %.3f, hard_metrics: %.3f, soft_det_metrics: %.3f, hard_det_metrics: %.3f\" % tuple([x * 100 for x in metrics[:-1]]))\n",
    "print(\"Num good detections:\", metrics[-1])"
   ]
  },
  {
   "cell_type": "code",
   "execution_count": null,
   "metadata": {},
   "outputs": [],
   "source": []
  },
  {
   "cell_type": "code",
   "execution_count": 16,
   "metadata": {},
   "outputs": [
    {
     "name": "stdout",
     "output_type": "stream",
     "text": [
      "soft_metrics: 86.209, hard_metrics: 58.428, soft_det_metrics: 92.210, hard_det_metrics: 87.281\n",
      "Num good detections: 629\n"
     ]
    }
   ],
   "source": [
    "# v9 pha rams. default\n",
    "print(\"soft_metrics: %.3f, hard_metrics: %.3f, soft_det_metrics: %.3f, hard_det_metrics: %.3f\" % tuple([x * 100 for x in metrics[:-1]]))\n",
    "print(\"Num good detections:\", metrics[-1])"
   ]
  },
  {
   "cell_type": "code",
   "execution_count": 13,
   "metadata": {},
   "outputs": [
    {
     "name": "stdout",
     "output_type": "stream",
     "text": [
      "soft_metrics: 85.961, hard_metrics: 58.329, soft_det_metrics: 91.574, hard_det_metrics: 86.963\n",
      "Num good detections: 629\n"
     ]
    }
   ],
   "source": [
    "# v9 pha rams. default\n",
    "print(\"soft_metrics: %.3f, hard_metrics: %.3f, soft_det_metrics: %.3f, hard_det_metrics: %.3f\" % tuple([x * 100 for x in metrics[:-1]]))\n",
    "print(\"Num good detections:\", metrics[-1])"
   ]
  },
  {
   "cell_type": "code",
   "execution_count": 4,
   "metadata": {},
   "outputs": [
    {
     "name": "stdout",
     "output_type": "stream",
     "text": [
      "soft_metrics: 85.961, hard_metrics: 58.329, soft_det_metrics: 91.574, hard_det_metrics: 86.963\n",
      "Num good detections: 629\n"
     ]
    }
   ],
   "source": [
    "# v9 pha rams. default\n",
    "print(\"soft_metrics: %.3f, hard_metrics: %.3f, soft_det_metrics: %.3f, hard_det_metrics: %.3f\" % tuple([x * 100 for x in metrics[:-1]]))\n",
    "print(\"Num good detections:\", metrics[-1])"
   ]
  },
  {
   "cell_type": "code",
   "execution_count": 6,
   "metadata": {},
   "outputs": [
    {
     "name": "stdout",
     "output_type": "stream",
     "text": [
      "soft_metrics: 86.060, hard_metrics: 58.428, soft_det_metrics: 92.051, hard_det_metrics: 87.440\n",
      "Num good detections: 629\n"
     ]
    }
   ],
   "source": [
    "# v9 pha rams. default\n",
    "print(\"soft_metrics: %.3f, hard_metrics: %.3f, soft_det_metrics: %.3f, hard_det_metrics: %.3f\" % tuple([x * 100 for x in metrics[:-1]]))\n",
    "print(\"Num good detections:\", metrics[-1])"
   ]
  },
  {
   "cell_type": "code",
   "execution_count": 16,
   "metadata": {},
   "outputs": [
    {
     "name": "stdout",
     "output_type": "stream",
     "text": [
      "soft_metrics: 89.148, hard_metrics: 76.821, soft_det_metrics: 94.512, hard_det_metrics: 91.276\n",
      "Num good detections: 2132\n"
     ]
    }
   ],
   "source": [
    "# v9 pha rams. default\n",
    "print(\"soft_metrics: %.3f, hard_metrics: %.3f, soft_det_metrics: %.3f, hard_det_metrics: %.3f\" % tuple([x * 100 for x in metrics[:-1]]))\n",
    "print(\"Num good detections:\", metrics[-1])"
   ]
  },
  {
   "cell_type": "code",
   "execution_count": 18,
   "metadata": {},
   "outputs": [
    {
     "name": "stdout",
     "output_type": "stream",
     "text": [
      "soft_metrics: 89.111, hard_metrics: 76.772, soft_det_metrics: 94.465, hard_det_metrics: 91.135\n",
      "Num good detections: 2132\n"
     ]
    }
   ],
   "source": [
    "# v9 pha rams. default\n",
    "print(\"soft_metrics: %.3f, hard_metrics: %.3f, soft_det_metrics: %.3f, hard_det_metrics: %.3f\" % tuple([x * 100 for x in metrics[:-1]]))\n",
    "print(\"Num good detections:\", metrics[-1])"
   ]
  },
  {
   "cell_type": "code",
   "execution_count": 33,
   "metadata": {},
   "outputs": [
    {
     "name": "stdout",
     "output_type": "stream",
     "text": [
      "soft_metrics: 89.148, hard_metrics: 76.821, soft_det_metrics: 94.512, hard_det_metrics: 91.276\n",
      "Num good detections: 2132\n"
     ]
    }
   ],
   "source": [
    "# v9 pha rams. default\n",
    "print(\"soft_metrics: %.3f, hard_metrics: %.3f, soft_det_metrics: %.3f, hard_det_metrics: %.3f\" % tuple([x * 100 for x in metrics[:-1]]))\n",
    "print(\"Num good detections:\", metrics[-1])"
   ]
  },
  {
   "cell_type": "code",
   "execution_count": null,
   "metadata": {},
   "outputs": [],
   "source": []
  },
  {
   "cell_type": "code",
   "execution_count": 23,
   "metadata": {},
   "outputs": [
    {
     "name": "stdout",
     "output_type": "stream",
     "text": [
      "soft_metrics: 88.542, hard_metrics: 76.687, soft_det_metrics: 94.307, hard_det_metrics: 92.600\n",
      "Num good detections: 527\n"
     ]
    }
   ],
   "source": [
    "# v9 pha rams. default\n",
    "print(\"soft_metrics: %.3f, hard_metrics: %.3f, soft_det_metrics: %.3f, hard_det_metrics: %.3f\" % tuple([x * 100 for x in metrics[:-1]]))\n",
    "print(\"Num good detections:\", metrics[-1])"
   ]
  },
  {
   "cell_type": "code",
   "execution_count": 25,
   "metadata": {},
   "outputs": [
    {
     "name": "stdout",
     "output_type": "stream",
     "text": [
      "soft_metrics: 88.442, hard_metrics: 76.637, soft_det_metrics: 94.118, hard_det_metrics: 92.410\n",
      "Num good detections: 527\n"
     ]
    }
   ],
   "source": [
    "# v9 pha rams. default\n",
    "print(\"soft_metrics: %.3f, hard_metrics: %.3f, soft_det_metrics: %.3f, hard_det_metrics: %.3f\" % tuple([x * 100 for x in metrics[:-1]]))\n",
    "print(\"Num good detections:\", metrics[-1])"
   ]
  },
  {
   "cell_type": "code",
   "execution_count": 28,
   "metadata": {},
   "outputs": [
    {
     "name": "stdout",
     "output_type": "stream",
     "text": [
      "soft_metrics: 88.343, hard_metrics: 76.587, soft_det_metrics: 94.118, hard_det_metrics: 92.410\n",
      "Num good detections: 527\n"
     ]
    }
   ],
   "source": [
    "# v9 pha rams. default\n",
    "print(\"soft_metrics: %.3f, hard_metrics: %.3f, soft_det_metrics: %.3f, hard_det_metrics: %.3f\" % tuple([x * 100 for x in metrics[:-1]]))\n",
    "print(\"Num good detections:\", metrics[-1])"
   ]
  },
  {
   "cell_type": "code",
   "execution_count": null,
   "metadata": {},
   "outputs": [],
   "source": []
  },
  {
   "cell_type": "code",
   "execution_count": 13,
   "metadata": {},
   "outputs": [
    {
     "name": "stdout",
     "output_type": "stream",
     "text": [
      "soft_metrics: 88.442, hard_metrics: 76.637, soft_det_metrics: 94.118, hard_det_metrics: 92.410\n",
      "Num good detections: 527\n"
     ]
    }
   ],
   "source": [
    "# v9 pha rams. default\n",
    "print(\"soft_metrics: %.3f, hard_metrics: %.3f, soft_det_metrics: %.3f, hard_det_metrics: %.3f\" % tuple([x * 100 for x in metrics[:-1]]))\n",
    "print(\"Num good detections:\", metrics[-1])"
   ]
  },
  {
   "cell_type": "code",
   "execution_count": 6,
   "metadata": {},
   "outputs": [
    {
     "name": "stdout",
     "output_type": "stream",
     "text": [
      "soft_metrics: 87.897, hard_metrics: 76.042, soft_det_metrics: 91.841, hard_det_metrics: 90.323\n",
      "Num good detections: 527\n"
     ]
    }
   ],
   "source": [
    "# v9 pha rams. default\n",
    "print(\"soft_metrics: %.3f, hard_metrics: %.3f, soft_det_metrics: %.3f, hard_det_metrics: %.3f\" % tuple([x * 100 for x in metrics[:-1]]))\n",
    "print(\"Num good detections:\", metrics[-1])"
   ]
  },
  {
   "cell_type": "code",
   "execution_count": null,
   "metadata": {},
   "outputs": [],
   "source": []
  },
  {
   "cell_type": "code",
   "execution_count": 12,
   "metadata": {},
   "outputs": [
    {
     "name": "stdout",
     "output_type": "stream",
     "text": [
      "soft_metrics: 88.542, hard_metrics: 76.687, soft_det_metrics: 94.307, hard_det_metrics: 92.600\n",
      "Num good detections: 527\n"
     ]
    }
   ],
   "source": [
    "# v9 pha rams. default\n",
    "print(\"soft_metrics: %.3f, hard_metrics: %.3f, soft_det_metrics: %.3f, hard_det_metrics: %.3f\" % tuple([x * 100 for x in metrics[:-1]]))\n",
    "print(\"Num good detections:\", metrics[-1])"
   ]
  },
  {
   "cell_type": "code",
   "execution_count": 9,
   "metadata": {},
   "outputs": [
    {
     "name": "stdout",
     "output_type": "stream",
     "text": [
      "soft_metrics: 87.897, hard_metrics: 76.042, soft_det_metrics: 91.841, hard_det_metrics: 90.323\n",
      "Num good detections: 527\n"
     ]
    }
   ],
   "source": [
    "# v9 params. default\n",
    "print(\"soft_metrics: %.3f, hard_metrics: %.3f, soft_det_metrics: %.3f, hard_det_metrics: %.3f\" % tuple([x * 100 for x in metrics[:-1]]))\n",
    "print(\"Num good detections:\", metrics[-1])"
   ]
  },
  {
   "cell_type": "code",
   "execution_count": 52,
   "metadata": {},
   "outputs": [
    {
     "name": "stdout",
     "output_type": "stream",
     "text": [
      "soft_metrics: 88.542, hard_metrics: 76.687, soft_det_metrics: 94.307, hard_det_metrics: 92.600\n",
      "Num good detections: 527\n"
     ]
    }
   ],
   "source": [
    "# v9 params. default\n",
    "print(\"soft_metrics: %.3f, hard_metrics: %.3f, soft_det_metrics: %.3f, hard_det_metrics: %.3f\" % tuple([x * 100 for x in metrics[:-1]]))\n",
    "print(\"Num good detections:\", metrics[-1])"
   ]
  },
  {
   "cell_type": "code",
   "execution_count": 52,
   "metadata": {},
   "outputs": [
    {
     "name": "stdout",
     "output_type": "stream",
     "text": [
      "soft_metrics: 88.542, hard_metrics: 76.687, soft_det_metrics: 94.307, hard_det_metrics: 92.600\n",
      "Num good detections: 527\n"
     ]
    }
   ],
   "source": [
    "# v9 params. default\n",
    "print(\"soft_metrics: %.3f, hard_metrics: %.3f, soft_det_metrics: %.3f, hard_det_metrics: %.3f\" % tuple([x * 100 for x in metrics[:-1]]))\n",
    "print(\"Num good detections:\", metrics[-1])"
   ]
  },
  {
   "cell_type": "code",
   "execution_count": 49,
   "metadata": {},
   "outputs": [
    {
     "name": "stdout",
     "output_type": "stream",
     "text": [
      "soft_metrics: 88.542, hard_metrics: 76.687, soft_det_metrics: 94.307, hard_det_metrics: 92.600\n",
      "Num good detections: 527\n"
     ]
    }
   ],
   "source": [
    "# v9 params. default\n",
    "print(\"soft_metrics: %.3f, hard_metrics: %.3f, soft_det_metrics: %.3f, hard_det_metrics: %.3f\" % tuple([x * 100 for x in metrics[:-1]]))\n",
    "print(\"Num good detections:\", metrics[-1])"
   ]
  },
  {
   "cell_type": "code",
   "execution_count": 14,
   "metadata": {},
   "outputs": [
    {
     "name": "stdout",
     "output_type": "stream",
     "text": [
      "soft_metrics: 87.847, hard_metrics: 76.141, soft_det_metrics: 92.979, hard_det_metrics: 91.271\n",
      "Num good detections: 527\n"
     ]
    }
   ],
   "source": [
    "# v9 params. default\n",
    "print(\"soft_metrics: %.3f, hard_metrics: %.3f, soft_det_metrics: %.3f, hard_det_metrics: %.3f\" % tuple([x * 100 for x in metrics[:-1]]))\n",
    "print(\"Num good detections:\", metrics[-1])"
   ]
  },
  {
   "cell_type": "code",
   "execution_count": 5,
   "metadata": {},
   "outputs": [
    {
     "name": "stdout",
     "output_type": "stream",
     "text": [
      "soft_metrics: 87.847, hard_metrics: 76.141, soft_det_metrics: 92.979, hard_det_metrics: 91.271\n",
      "Num good detections: 527\n"
     ]
    }
   ],
   "source": [
    "# v9 params. default\n",
    "print(\"soft_metrics: %.3f, hard_metrics: %.3f, soft_det_metrics: %.3f, hard_det_metrics: %.3f\" % tuple([x * 100 for x in metrics[:-1]]))\n",
    "print(\"Num good detections:\", metrics[-1])"
   ]
  },
  {
   "cell_type": "code",
   "execution_count": 12,
   "metadata": {},
   "outputs": [
    {
     "name": "stdout",
     "output_type": "stream",
     "text": [
      "soft_metrics: 81.498, hard_metrics: 70.883, soft_det_metrics: 84.061, hard_det_metrics: 82.922\n",
      "Num good detections: 527\n"
     ]
    }
   ],
   "source": [
    "# v9 params. default\n",
    "print(\"soft_metrics: %.3f, hard_metrics: %.3f, soft_det_metrics: %.3f, hard_det_metrics: %.3f\" % tuple([x * 100 for x in metrics[:-1]]))\n",
    "print(\"Num good detections:\", metrics[-1])"
   ]
  },
  {
   "cell_type": "code",
   "execution_count": 10,
   "metadata": {},
   "outputs": [
    {
     "name": "stdout",
     "output_type": "stream",
     "text": [
      "soft_metrics: 87.649, hard_metrics: 75.843, soft_det_metrics: 91.651, hard_det_metrics: 89.943\n",
      "Num good detections: 527\n"
     ]
    }
   ],
   "source": [
    "# v9 params. default\n",
    "print(\"soft_metrics: %.3f, hard_metrics: %.3f, soft_det_metrics: %.3f, hard_det_metrics: %.3f\" % tuple([x * 100 for x in metrics[:-1]]))\n",
    "print(\"Num good detections:\", metrics[-1])"
   ]
  },
  {
   "cell_type": "code",
   "execution_count": 5,
   "metadata": {},
   "outputs": [
    {
     "name": "stdout",
     "output_type": "stream",
     "text": [
      "soft_metrics: 75.595, hard_metrics: 65.625, soft_det_metrics: 72.486, hard_det_metrics: 70.588\n",
      "Num good detections: 527\n"
     ]
    }
   ],
   "source": [
    "# v9 params. default\n",
    "print(\"soft_metrics: %.3f, hard_metrics: %.3f, soft_det_metrics: %.3f, hard_det_metrics: %.3f\" % tuple([x * 100 for x in metrics[:-1]]))\n",
    "print(\"Num good detections:\", metrics[-1])"
   ]
  },
  {
   "cell_type": "code",
   "execution_count": 117,
   "metadata": {},
   "outputs": [
    {
     "name": "stdout",
     "output_type": "stream",
     "text": [
      "soft_metrics: 87.649, hard_metrics: 75.843, soft_det_metrics: 91.841, hard_det_metrics: 89.943\n",
      "Num good detections: 527\n"
     ]
    }
   ],
   "source": [
    "# v9 params. default\n",
    "print(\"soft_metrics: %.3f, hard_metrics: %.3f, soft_det_metrics: %.3f, hard_det_metrics: %.3f\" % tuple([x * 100 for x in metrics[:-1]]))\n",
    "print(\"Num good detections:\", metrics[-1])"
   ]
  },
  {
   "cell_type": "code",
   "execution_count": 114,
   "metadata": {},
   "outputs": [
    {
     "name": "stdout",
     "output_type": "stream",
     "text": [
      "soft_metrics: 87.698, hard_metrics: 75.893, soft_det_metrics: 91.841, hard_det_metrics: 89.943\n",
      "Num good detections: 527\n"
     ]
    }
   ],
   "source": [
    "# v9 params. default\n",
    "print(\"soft_metrics: %.3f, hard_metrics: %.3f, soft_det_metrics: %.3f, hard_det_metrics: %.3f\" % tuple([x * 100 for x in metrics[:-1]]))\n",
    "print(\"Num good detections:\", metrics[-1])"
   ]
  },
  {
   "cell_type": "code",
   "execution_count": null,
   "metadata": {},
   "outputs": [],
   "source": []
  },
  {
   "cell_type": "code",
   "execution_count": 85,
   "metadata": {},
   "outputs": [
    {
     "name": "stdout",
     "output_type": "stream",
     "text": [
      "soft_metrics: 85.218, hard_metrics: 73.661, soft_det_metrics: 88.615, hard_det_metrics: 86.338\n",
      "Num good detections: 527\n"
     ]
    }
   ],
   "source": [
    "# v9 params. default\n",
    "print(\"soft_metrics: %.3f, hard_metrics: %.3f, soft_det_metrics: %.3f, hard_det_metrics: %.3f\" % tuple([x * 100 for x in metrics[:-1]]))\n",
    "print(\"Num good detections:\", metrics[-1])"
   ]
  },
  {
   "cell_type": "code",
   "execution_count": 79,
   "metadata": {},
   "outputs": [
    {
     "name": "stdout",
     "output_type": "stream",
     "text": [
      "soft_metrics: 84.722, hard_metrics: 73.214, soft_det_metrics: 86.907, hard_det_metrics: 84.630\n",
      "Num good detections: 527\n"
     ]
    }
   ],
   "source": [
    "# v9 params. default\n",
    "print(\"soft_metrics: %.3f, hard_metrics: %.3f, soft_det_metrics: %.3f, hard_det_metrics: %.3f\" % tuple([x * 100 for x in metrics[:-1]]))\n",
    "print(\"Num good detections:\", metrics[-1])"
   ]
  },
  {
   "cell_type": "code",
   "execution_count": 60,
   "metadata": {},
   "outputs": [
    {
     "name": "stdout",
     "output_type": "stream",
     "text": [
      "soft_metrics: 87.698, hard_metrics: 75.893, soft_det_metrics: 91.841, hard_det_metrics: 89.943\n",
      "Num good detections: 527\n"
     ]
    }
   ],
   "source": [
    "# v9 params. v8\n",
    "print(\"soft_metrics: %.3f, hard_metrics: %.3f, soft_det_metrics: %.3f, hard_det_metrics: %.3f\" % tuple([x * 100 for x in metrics[:-1]]))\n",
    "print(\"Num good detections:\", metrics[-1])"
   ]
  },
  {
   "cell_type": "code",
   "execution_count": null,
   "metadata": {},
   "outputs": [],
   "source": []
  },
  {
   "cell_type": "code",
   "execution_count": 98,
   "metadata": {},
   "outputs": [
    {
     "name": "stdout",
     "output_type": "stream",
     "text": [
      "soft_metrics: 87.649, hard_metrics: 75.843, soft_det_metrics: 91.651, hard_det_metrics: 89.943\n",
      "Num good detections: 527\n"
     ]
    }
   ],
   "source": [
    "# v9 params. default\n",
    "print(\"soft_metrics: %.3f, hard_metrics: %.3f, soft_det_metrics: %.3f, hard_det_metrics: %.3f\" % tuple([x * 100 for x in metrics[:-1]]))\n",
    "print(\"Num good detections:\", metrics[-1])"
   ]
  },
  {
   "cell_type": "code",
   "execution_count": null,
   "metadata": {},
   "outputs": [],
   "source": []
  },
  {
   "cell_type": "code",
   "execution_count": null,
   "metadata": {},
   "outputs": [],
   "source": []
  },
  {
   "cell_type": "code",
   "execution_count": null,
   "metadata": {},
   "outputs": [],
   "source": []
  },
  {
   "cell_type": "code",
   "execution_count": 13,
   "metadata": {},
   "outputs": [
    {
     "name": "stdout",
     "output_type": "stream",
     "text": [
      "soft_metrics: 88.1, hard_metrics: 76.1, soft_det_metrics: 91.6, hard_det_metrics: 89.1\n",
      "Num good detections: 2132\n"
     ]
    }
   ],
   "source": [
    "# v9 params. v2 hypoth. v7\n",
    "print(\"soft_metrics: %.1f, hard_metrics: %.1f, soft_det_metrics: %.1f, hard_det_metrics: %.1f\" % tuple([x * 100 for x in metrics[:-1]]))\n",
    "print(\"Num good detections:\", metrics[-1])"
   ]
  },
  {
   "cell_type": "code",
   "execution_count": 12,
   "metadata": {},
   "outputs": [
    {
     "name": "stdout",
     "output_type": "stream",
     "text": [
      "soft_metrics: 87.3, hard_metrics: 75.5, soft_det_metrics: 91.3, hard_det_metrics: 89.6\n",
      "Num good detections: 527\n"
     ]
    }
   ],
   "source": [
    "# v9 params. v2 hypoth. v7\n",
    "print(\"soft_metrics: %.1f, hard_metrics: %.1f, soft_det_metrics: %.1f, hard_det_metrics: %.1f\" % tuple([x * 100 for x in metrics[:-1]]))\n",
    "print(\"Num good detections:\", metrics[-1])"
   ]
  },
  {
   "cell_type": "code",
   "execution_count": null,
   "metadata": {},
   "outputs": [],
   "source": []
  }
 ],
 "metadata": {
  "kernelspec": {
   "display_name": "Python 3",
   "language": "python",
   "name": "python3"
  },
  "language_info": {
   "codemirror_mode": {
    "name": "ipython",
    "version": 3
   },
   "file_extension": ".py",
   "mimetype": "text/x-python",
   "name": "python",
   "nbconvert_exporter": "python",
   "pygments_lexer": "ipython3",
   "version": "3.6.9"
  }
 },
 "nbformat": 4,
 "nbformat_minor": 4
}
