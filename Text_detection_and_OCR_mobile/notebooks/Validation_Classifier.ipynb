{
 "cells": [
  {
   "cell_type": "code",
   "execution_count": 1,
   "metadata": {},
   "outputs": [],
   "source": [
    "from tools.utils import enableGPU, allow_growth\n",
    "enableGPU(3)\n",
    "allow_growth()\n",
    "import warnings\n",
    "warnings.filterwarnings(\"ignore\", \"\", RuntimeWarning)\n",
    "warnings.filterwarnings(\"ignore\", \"\", FutureWarning)\n",
    "from validation import calc_classifier_metrics, np"
   ]
  },
  {
   "cell_type": "code",
   "execution_count": 4,
   "metadata": {},
   "outputs": [],
   "source": [
    "max_side = 120\n",
    "img_list_filename = f\"schwarzkopf-price-tags-imgs\"\n",
    "boxes_arrays_filename = f\"schwarzkopf-price-tags-arrays\"\n",
    "model_name = 'digits_epoch-74_loss-0.1696_acc-0.9559.h5'\n",
    "ids_list_filename = \"schwarzkopf-price-tags-ids\"\n",
    "save_bad_ids_filename = \"schwarzkopf-price-tags-ids-bad\"\n",
    "# blur_params = dict(dsize=40, threshold=8)\n",
    "# blur_params = dict(dsize=120, threshold=35, min_zero=.05)\n",
    "# blur_params = dict(dsize=120, threshold=10, min_zero=.01)\n",
    "# blur_params = dict(dsize=120, threshold=0, min_zero=.001)\n",
    "\n",
    "\n",
    "blur_params = None\n",
    "# ids = range(30)\n",
    "ids = None"
   ]
  },
  {
   "cell_type": "code",
   "execution_count": 5,
   "metadata": {},
   "outputs": [
    {
     "name": "stderr",
     "output_type": "stream",
     "text": [
      "100%|██████████| 7167/7167 [20:38<00:00,  5.79it/s]"
     ]
    },
    {
     "name": "stdout",
     "output_type": "stream",
     "text": [
      "Good classsified not blur ratio: 0.0;Bad classsified not blur ratio: 0.0\n",
      "Num bad tags: 2802\n",
      "not blur count 1.0\n",
      "acc_micro: 80.0, acc_macro: 80.8\n"
     ]
    },
    {
     "name": "stderr",
     "output_type": "stream",
     "text": [
      "\n"
     ]
    }
   ],
   "source": [
    "metrics = calc_classifier_metrics(model_name, img_list_filename, boxes_arrays_filename, \n",
    "                                  ids_list_filename, save_bad_ids_filename, blur_params, ids)\n",
    "print(\"acc_micro: %.1f, acc_macro: %.1f\" % tuple([x * 100 for x in metrics]))"
   ]
  },
  {
   "cell_type": "code",
   "execution_count": 3,
   "metadata": {},
   "outputs": [
    {
     "name": "stderr",
     "output_type": "stream",
     "text": [
      "100%|██████████| 7167/7167 [07:28<00:00, 16.09it/s] "
     ]
    },
    {
     "name": "stdout",
     "output_type": "stream",
     "text": [
      "Good classsified not blur ratio: 0.159;Bad classsified not blur ratio: 0.1442\n",
      "Num bad tags: 2802\n",
      "not blur count 1.0\n",
      "acc_micro: 80.0, acc_macro: 80.8\n"
     ]
    },
    {
     "name": "stderr",
     "output_type": "stream",
     "text": [
      "\n"
     ]
    }
   ],
   "source": [
    "metrics = calc_classifier_metrics(model_name, img_list_filename, boxes_arrays_filename, blur_params, ids)\n",
    "print(\"acc_micro: %.1f, acc_macro: %.1f\" % tuple([x * 100 for x in metrics]))"
   ]
  },
  {
   "cell_type": "code",
   "execution_count": 6,
   "metadata": {},
   "outputs": [
    {
     "name": "stderr",
     "output_type": "stream",
     "text": [
      "100%|██████████| 7167/7167 [10:21<00:00, 11.40it/s]"
     ]
    },
    {
     "name": "stdout",
     "output_type": "stream",
     "text": [
      "Good classsified not blur ratio: 0.1313;Bad classsified not blur ratio: 0.126\n",
      "Num bad tags: 2802\n",
      "not blur count 1.0\n",
      "acc_micro: 80.0, acc_macro: 80.8\n"
     ]
    },
    {
     "name": "stderr",
     "output_type": "stream",
     "text": [
      "\n"
     ]
    }
   ],
   "source": [
    "metrics = calc_classifier_metrics(model_name, img_list_filename, boxes_arrays_filename, blur_params, ids)\n",
    "print(\"acc_micro: %.1f, acc_macro: %.1f\" % tuple([x * 100 for x in metrics]))"
   ]
  },
  {
   "cell_type": "code",
   "execution_count": 4,
   "metadata": {},
   "outputs": [
    {
     "name": "stderr",
     "output_type": "stream",
     "text": [
      "100%|██████████| 7167/7167 [10:24<00:00, 11.66it/s]"
     ]
    },
    {
     "name": "stdout",
     "output_type": "stream",
     "text": [
      "Good classsified not blur ratio: 0.0156;Bad classsified not blur ratio: 0.0164\n",
      "Num bad tags: 2802\n",
      "not blur count 1.0\n",
      "acc_micro: 80.0, acc_macro: 80.8\n"
     ]
    },
    {
     "name": "stderr",
     "output_type": "stream",
     "text": [
      "\n"
     ]
    }
   ],
   "source": [
    "metrics = calc_classifier_metrics(model_name, img_list_filename, boxes_arrays_filename, blur_params, ids)\n",
    "print(\"acc_micro: %.1f, acc_macro: %.1f\" % tuple([x * 100 for x in metrics]))"
   ]
  },
  {
   "cell_type": "code",
   "execution_count": null,
   "metadata": {},
   "outputs": [],
   "source": [
    "max_side = 120\n",
    "img_list_filename = f\"schwarzkopf-price-tags-val-imgs-size-{max_side}\"\n",
    "boxes_arrays_filename = f\"schwarzkopf-price-tags-val-arrays-size-{max_side}\"\n",
    "model_name = 'digits_epoch-74_loss-0.1696_acc-0.9559.h5'\n",
    "blur_params = dict(dsize=40, threshold=8.2)\n",
    "# blur_params = None"
   ]
  },
  {
   "cell_type": "code",
   "execution_count": 5,
   "metadata": {},
   "outputs": [
    {
     "name": "stderr",
     "output_type": "stream",
     "text": [
      "100%|██████████| 5167/5167 [02:03<00:00, 36.39it/s]"
     ]
    },
    {
     "name": "stdout",
     "output_type": "stream",
     "text": [
      "not blur count 0.5258370427714341\n",
      "acc_micro: 84.0, acc_macro: 86.9\n"
     ]
    },
    {
     "name": "stderr",
     "output_type": "stream",
     "text": [
      "\n"
     ]
    }
   ],
   "source": [
    "metrics = calc_classifier_metrics(model_name, img_list_filename, boxes_arrays_filename, blur_params)\n",
    "print(\"acc_micro: %.1f, acc_macro: %.1f\" % tuple([x * 100 for x in metrics]))"
   ]
  },
  {
   "cell_type": "code",
   "execution_count": null,
   "metadata": {},
   "outputs": [],
   "source": []
  },
  {
   "cell_type": "code",
   "execution_count": 3,
   "metadata": {},
   "outputs": [
    {
     "name": "stderr",
     "output_type": "stream",
     "text": [
      "100%|██████████| 5167/5167 [03:42<00:00, 23.23it/s]"
     ]
    },
    {
     "name": "stdout",
     "output_type": "stream",
     "text": [
      "not blur count 1.0\n",
      "acc_micro: 73.2, acc_macro: 75.3\n"
     ]
    },
    {
     "name": "stderr",
     "output_type": "stream",
     "text": [
      "\n"
     ]
    }
   ],
   "source": [
    "metrics = calc_classifier_metrics(model_name, img_list_filename, boxes_arrays_filename, blur_params)\n",
    "print(\"acc_micro: %.1f, acc_macro: %.1f\" % tuple([x * 100 for x in metrics]))"
   ]
  },
  {
   "cell_type": "code",
   "execution_count": 2,
   "metadata": {},
   "outputs": [],
   "source": [
    "max_side = 120\n",
    "img_list_filename = f\"schwarzkopf-price-tags-train-imgs-size-{max_side}\"\n",
    "boxes_arrays_filename = f\"schwarzkopf-price-tags-train-arrays-size-{max_side}\"\n",
    "model_name = 'digits_epoch-74_loss-0.1696_acc-0.9559.h5'\n",
    "blur_params = dict(dsize=40, threshold=8.2)\n",
    "# blur_params = None"
   ]
  },
  {
   "cell_type": "markdown",
   "metadata": {},
   "source": [
    "Прогнал классификатор по боксам из валидационного датасета (5к ценников)   \n",
    "acc_micro: 65.7, acc_macro: 69.3  \n",
    "\n",
    "при фильтрации по блюру (выкидывается 47% данных)  \n",
    "acc_micro: 78.8, acc_macro: 83.4  "
   ]
  },
  {
   "cell_type": "code",
   "execution_count": null,
   "metadata": {},
   "outputs": [],
   "source": []
  }
 ],
 "metadata": {
  "kernelspec": {
   "display_name": "Python 3",
   "language": "python",
   "name": "python3"
  },
  "language_info": {
   "codemirror_mode": {
    "name": "ipython",
    "version": 3
   },
   "file_extension": ".py",
   "mimetype": "text/x-python",
   "name": "python",
   "nbconvert_exporter": "python",
   "pygments_lexer": "ipython3",
   "version": "3.6.9"
  }
 },
 "nbformat": 4,
 "nbformat_minor": 4
}
