{
 "cells": [
  {
   "cell_type": "code",
   "execution_count": 1,
   "metadata": {},
   "outputs": [],
   "source": [
    "gpu = True\n",
    "# gpu = False\n",
    "if gpu:\n",
    "    from tools.utils import enableGPU, allow_growth\n",
    "    gpu_id = 0\n",
    "    enableGPU(gpu_id)\n",
    "    allow_growth()\n",
    "else:\n",
    "    from tools.utils import disableGPU\n",
    "    disableGPU()\n",
    "    \n",
    "    \n",
    "import warnings\n",
    "warnings.filterwarnings(\"ignore\", \"\", RuntimeWarning)\n",
    "warnings.filterwarnings(\"ignore\", \"\", FutureWarning)\n",
    "from validation import calc_val_metrics2, np"
   ]
  },
  {
   "cell_type": "code",
   "execution_count": 2,
   "metadata": {},
   "outputs": [],
   "source": [
    "model_name = 'digits_epoch-74_loss-0.1696_acc-0.9559.h5'\n",
    "n = None # 7100, 5100"
   ]
  },
  {
   "cell_type": "code",
   "execution_count": 3,
   "metadata": {},
   "outputs": [],
   "source": [
    "version = \"v7\"\n",
    "# img_list_filename = f\"schwarzkopf-price-tags-val-imgs\"\n",
    "# boxes_arrays_filename = f\"schwarzkopf-price-tags-val-arrays\"\n",
    "# suffix = 'train'\n",
    "suffix = 'train_2'\n",
    "# suffix = 'val_2'\n",
    "\n",
    "boxes_arrays_filename = f\"union_companies_labels_{suffix}_det_{suffix}\"\n",
    "img_list_filename = f\"union_companies_imgs_{suffix}_det_{suffix}\"\n",
    "max_side = 120\n",
    "gt_thresh = .2\n",
    "divide_algo = True"
   ]
  },
  {
   "cell_type": "code",
   "execution_count": 4,
   "metadata": {},
   "outputs": [
    {
     "name": "stderr",
     "output_type": "stream",
     "text": [
      "100%|██████████| 2024/2024 [04:30<00:00,  7.47it/s]\n"
     ]
    },
    {
     "name": "stdout",
     "output_type": "stream",
     "text": [
      "acc_micro: 65.2, acc_macro: 70.5, f1_micro: 79.0, f1_macro: 80.0, pr_macro: 88.2, rec_macro: 79.4\n"
     ]
    }
   ],
   "source": [
    "version = \"v9\"\n",
    "suffix = 'train_2'\n",
    "\n",
    "boxes_arrays_filename = f\"union_companies_labels_{suffix}_det_{suffix}\"\n",
    "img_list_filename = f\"union_companies_imgs_{suffix}_det_{suffix}\"\n",
    "\n",
    "metrics = calc_val_metrics2(version, model_name, img_list_filename,\n",
    "                           boxes_arrays_filename, n, gt_thresh, divide_algo, max_side)\n",
    "print(\"acc_micro: %.1f, acc_macro: %.1f, f1_micro: %.1f, f1_macro: %.1f, pr_macro: %.1f, rec_macro: %.1f\" % tuple([x * 100 for x in metrics]))"
   ]
  },
  {
   "cell_type": "code",
   "execution_count": null,
   "metadata": {},
   "outputs": [],
   "source": []
  },
  {
   "cell_type": "code",
   "execution_count": 4,
   "metadata": {},
   "outputs": [
    {
     "name": "stderr",
     "output_type": "stream",
     "text": [
      "100%|██████████| 2024/2024 [07:47<00:00,  4.05it/s]\n"
     ]
    },
    {
     "name": "stdout",
     "output_type": "stream",
     "text": [
      "acc_micro: 65.5, acc_macro: 70.8, f1_micro: 79.1, f1_macro: 80.4, pr_macro: 84.9, rec_macro: 82.4\n"
     ]
    }
   ],
   "source": [
    "version = \"v10\"\n",
    "suffix = 'train_2'\n",
    "boxes_arrays_filename = f\"union_companies_labels_{suffix}_det_{suffix}\"\n",
    "img_list_filename = f\"union_companies_imgs_{suffix}_det_{suffix}\"\n",
    "\n",
    "metrics = calc_val_metrics2(version, model_name, img_list_filename,\n",
    "                           boxes_arrays_filename, n, gt_thresh, divide_algo, max_side)\n",
    "print(\"acc_micro: %.1f, acc_macro: %.1f, f1_micro: %.1f, f1_macro: %.1f, pr_macro: %.1f, rec_macro: %.1f\" % tuple([x * 100 for x in metrics]))"
   ]
  },
  {
   "cell_type": "code",
   "execution_count": null,
   "metadata": {},
   "outputs": [],
   "source": []
  },
  {
   "cell_type": "code",
   "execution_count": 7,
   "metadata": {},
   "outputs": [
    {
     "name": "stderr",
     "output_type": "stream",
     "text": [
      "100%|██████████| 2021/2021 [05:28<00:00,  6.15it/s]\n"
     ]
    },
    {
     "name": "stdout",
     "output_type": "stream",
     "text": [
      "acc_micro: 72.0, acc_macro: 78.1, f1_micro: 83.7, f1_macro: 85.2, pr_macro: 86.3, rec_macro: 90.0\n"
     ]
    }
   ],
   "source": [
    "version = \"v9\"\n",
    "suffix = 'train'\n",
    "boxes_arrays_filename = f\"union_companies_labels_{suffix}_det_{suffix}\"\n",
    "img_list_filename = f\"union_companies_imgs_{suffix}_det_{suffix}\"\n",
    "\n",
    "metrics = calc_val_metrics2(version, model_name, img_list_filename,\n",
    "                           boxes_arrays_filename, n, gt_thresh, divide_algo, max_side)\n",
    "print(\"acc_micro: %.1f, acc_macro: %.1f, f1_micro: %.1f, f1_macro: %.1f, pr_macro: %.1f, rec_macro: %.1f\" % tuple([x * 100 for x in metrics]))"
   ]
  },
  {
   "cell_type": "code",
   "execution_count": 11,
   "metadata": {},
   "outputs": [
    {
     "name": "stderr",
     "output_type": "stream",
     "text": [
      "100%|██████████| 2024/2024 [08:39<00:00,  4.16it/s]\n"
     ]
    },
    {
     "name": "stdout",
     "output_type": "stream",
     "text": [
      "acc_micro: 70.7, acc_macro: 77.0, f1_micro: 82.8, f1_macro: 84.4, pr_macro: 86.1, rec_macro: 89.0\n"
     ]
    }
   ],
   "source": [
    "version = \"v9\"\n",
    "suffix = 'test'\n",
    "boxes_arrays_filename = f\"union_companies_labels_{suffix}\"\n",
    "img_list_filename = f\"union_companies_imgs_{suffix}\"\n",
    "\n",
    "metrics = calc_val_metrics2(version, model_name, img_list_filename,\n",
    "                           boxes_arrays_filename, n, gt_thresh, divide_algo, max_side)\n",
    "print(\"acc_micro: %.1f, acc_macro: %.1f, f1_micro: %.1f, f1_macro: %.1f, pr_macro: %.1f, rec_macro: %.1f\" % tuple([x * 100 for x in metrics]))"
   ]
  },
  {
   "cell_type": "code",
   "execution_count": null,
   "metadata": {},
   "outputs": [],
   "source": []
  },
  {
   "cell_type": "code",
   "execution_count": 12,
   "metadata": {},
   "outputs": [
    {
     "name": "stderr",
     "output_type": "stream",
     "text": [
      "100%|██████████| 2025/2025 [10:57<00:00,  2.95it/s]\n"
     ]
    },
    {
     "name": "stdout",
     "output_type": "stream",
     "text": [
      "acc_micro: 65.5, acc_macro: 71.1, f1_micro: 79.2, f1_macro: 80.8, pr_macro: 85.9, rec_macro: 81.9\n"
     ]
    }
   ],
   "source": [
    "version = \"v10\"\n",
    "suffix = 'test_2'\n",
    "boxes_arrays_filename = f\"union_companies_labels_{suffix}\"\n",
    "img_list_filename = f\"union_companies_imgs_{suffix}\"\n",
    "\n",
    "\n",
    "metrics = calc_val_metrics2(version, model_name, img_list_filename,\n",
    "                           boxes_arrays_filename, n, gt_thresh, divide_algo, max_side)\n",
    "print(\"acc_micro: %.1f, acc_macro: %.1f, f1_micro: %.1f, f1_macro: %.1f, pr_macro: %.1f, rec_macro: %.1f\" % tuple([x * 100 for x in metrics]))"
   ]
  },
  {
   "cell_type": "code",
   "execution_count": null,
   "metadata": {},
   "outputs": [],
   "source": []
  },
  {
   "cell_type": "code",
   "execution_count": 27,
   "metadata": {},
   "outputs": [
    {
     "name": "stderr",
     "output_type": "stream",
     "text": [
      "100%|██████████| 2021/2021 [04:40<00:00,  6.77it/s]\n"
     ]
    },
    {
     "name": "stdout",
     "output_type": "stream",
     "text": [
      "acc_micro: 61.6, acc_macro: 70.1, f1_micro: 76.2, f1_macro: 79.7, pr_macro: 74.6, rec_macro: 93.3\n"
     ]
    }
   ],
   "source": [
    "version = \"v9\"\n",
    "metrics = calc_val_metrics2(version, model_name, img_list_filename,\n",
    "                           boxes_arrays_filename, n, gt_thresh, divide_algo, max_side)\n",
    "print(\"acc_micro: %.1f, acc_macro: %.1f, f1_micro: %.1f, f1_macro: %.1f, pr_macro: %.1f, rec_macro: %.1f\" % tuple([x * 100 for x in metrics]))"
   ]
  },
  {
   "cell_type": "code",
   "execution_count": 28,
   "metadata": {},
   "outputs": [
    {
     "name": "stderr",
     "output_type": "stream",
     "text": [
      "100%|██████████| 2021/2021 [09:52<00:00,  3.53it/s]\n"
     ]
    },
    {
     "name": "stdout",
     "output_type": "stream",
     "text": [
      "acc_micro: 62.3, acc_macro: 70.3, f1_micro: 76.8, f1_macro: 79.7, pr_macro: 75.0, rec_macro: 92.6\n"
     ]
    }
   ],
   "source": [
    "version = \"v6\"\n",
    "metrics = calc_val_metrics2(version, model_name, img_list_filename,\n",
    "                           boxes_arrays_filename, n, gt_thresh, divide_algo, max_side)\n",
    "print(\"acc_micro: %.1f, acc_macro: %.1f, f1_micro: %.1f, f1_macro: %.1f, pr_macro: %.1f, rec_macro: %.1f\" % tuple([x * 100 for x in metrics]))"
   ]
  },
  {
   "cell_type": "code",
   "execution_count": null,
   "metadata": {},
   "outputs": [],
   "source": []
  },
  {
   "cell_type": "code",
   "execution_count": 3,
   "metadata": {},
   "outputs": [],
   "source": [
    "version = \"v6\"\n",
    "# version = \"v8\"\n",
    "max_side = 120\n",
    "img_list_filename = f\"schwarzkopf-price-tags-val-imgs-size-{max_side}\"\n",
    "boxes_arrays_filename = f\"schwarzkopf-price-tags-val-arrays-size-{max_side}\"\n",
    "gt_thresh = .2\n",
    "divide_algo = True"
   ]
  },
  {
   "cell_type": "code",
   "execution_count": null,
   "metadata": {},
   "outputs": [],
   "source": []
  },
  {
   "cell_type": "code",
   "execution_count": 4,
   "metadata": {},
   "outputs": [
    {
     "name": "stderr",
     "output_type": "stream",
     "text": [
      "100%|██████████| 5167/5167 [44:14<00:00,  1.99it/s] \n"
     ]
    },
    {
     "name": "stdout",
     "output_type": "stream",
     "text": [
      "acc_micro: 60.6, acc_macro: 63.3, f1_micro: 75.5, f1_macro: 70.7, pr_macro: 94.4, rec_macro: 66.3\n"
     ]
    }
   ],
   "source": [
    "metrics = calc_val_metrics(version, model_name, img_list_filename,\n",
    "                           boxes_arrays_filename, n, gt_thresh, divide_algo, max_side)\n",
    "print(\"acc_micro: %.1f, acc_macro: %.1f, f1_micro: %.1f, f1_macro: %.1f, pr_macro: %.1f, rec_macro: %.1f\" % tuple([x * 100 for x in metrics]))"
   ]
  },
  {
   "cell_type": "code",
   "execution_count": 3,
   "metadata": {},
   "outputs": [],
   "source": [
    "version = \"v6\"\n",
    "max_side = 120\n",
    "img_list_filename = f\"schwarzkopf-price-tags-val-imgs-size-{max_side}\"\n",
    "boxes_arrays_filename = f\"schwarzkopf-price-tags-val-arrays-size-{max_side}\"\n",
    "gt_thresh = .2\n",
    "divide_algo = True"
   ]
  },
  {
   "cell_type": "code",
   "execution_count": 3,
   "metadata": {},
   "outputs": [
    {
     "name": "stderr",
     "output_type": "stream",
     "text": [
      "/usr/local/lib/python3.6/dist-packages/tensorflow_core/python/keras/layers/core.py:986: UserWarning: models.digits_classifier is not loaded, but a Lambda layer uses it. It may cause errors.\n",
      "  , UserWarning)\n",
      "100%|██████████| 5167/5167 [52:46<00:00,  1.52it/s]  \n"
     ]
    },
    {
     "name": "stdout",
     "output_type": "stream",
     "text": [
      "acc_micro: 41.5, acc_macro: 48.3, f1_micro: 58.6, f1_macro: 59.3, pr_macro: 72.1, rec_macro: 61.1\n"
     ]
    }
   ],
   "source": [
    "metrics = calc_val_metrics(version, model_name, img_list_filename,\n",
    "                           boxes_arrays_filename, n, gt_thresh, divide_algo, max_side, box_expand_size)\n",
    "print(\"acc_micro: %.1f, acc_macro: %.1f, f1_micro: %.1f, f1_macro: %.1f, pr_macro: %.1f, rec_macro: %.1f\" % tuple([x * 100 for x in metrics]))"
   ]
  },
  {
   "cell_type": "code",
   "execution_count": null,
   "metadata": {},
   "outputs": [],
   "source": [
    "dataset_name = \"v1\"\n",
    "max_side = 120\n",
    "img_list_filename = f\"schwarzkopf-price-tags-train-imgs-size-{max_side}\"\n",
    "boxes_arrays_filename = f\"schwarzkopf-price-tags-train-arrays-size-{max_side}\"\n",
    "gt_thresh = .2\n",
    "divide_algo = True\n",
    "metrics = calc_val_metrics(dataset_name, model_name, img_list_filename,\n",
    "                           boxes_arrays_filename, n, gt_thresh, divide_algo, max_side)\n",
    "print(\"acc_micro: %.1f, acc_macro: %.1f, f1_micro: %.1f, f1_macro: %.1f, pr_macro: %.1f, rec_macro: %.1f\" % tuple([x * 100 for x in metrics]))"
   ]
  },
  {
   "cell_type": "markdown",
   "metadata": {},
   "source": [
    "**Val**  \n",
    "Default v3. old params v1.  \n",
    "acc_micro: 59.3, acc_macro: 61.8, f1_micro: 74.4, f1_macro: 69.1, pr_macro: 94.8, rec_macro: 64.6\n",
    "\n",
    "Default v3. params v1. expand size=2   \n",
    "acc_micro: 59.7, acc_macro: 62.4, f1_micro: 74.7, f1_macro: 70.1, pr_macro: 92.5, rec_macro: 66.4\n",
    "\n",
    "Default v3. params v1. expand size=3  \n",
    "acc_micro: 59.6, acc_macro: 62.4, f1_micro: 74.7, f1_macro: 70.2, pr_macro: 92.7, rec_macro: 66.1\n",
    "\n",
    "Default v3. new params v2(recall)   \n",
    "acc_micro: 60.2, acc_macro: 63.1, f1_micro: 75.2, f1_macro: 70.6, pr_macro: 93.8, rec_macro: 66.5  \n",
    "\n",
    "Default v3. New params v3.(acc)  \n",
    "acc_micro: 60.5, acc_macro: 63.1, f1_micro: 75.4, f1_macro: 70.5, pr_macro: 94.3, rec_macro: 66.2  \n",
    "\n",
    "Default v3. New params v4.(acc)   \n",
    "acc_micro: 60.7, acc_macro: 63.4, f1_micro: 75.5, f1_macro: 70.8, pr_macro: 94.3, rec_macro: 66.4   \n",
    "\n",
    "Default v3. New params v6.(acc).expsize=1    \n",
    "acc_micro: 60.6, acc_macro: 63.3, f1_micro: 75.5, f1_macro: 70.8, pr_macro: 94.4, rec_macro: 66.4\n",
    "\n",
    "Default v4(kind=stable) New params v6.(acc).expsize=1    \n",
    "acc_micro: 60.6, acc_macro: 63.3, f1_micro: 75.5, f1_macro: 70.7, pr_macro: 94.4, rec_macro: 66.3\n",
    "\n",
    "Default v3. New params v7.(acc)   \n",
    "acc_micro: 61.1, acc_macro: 64.2, f1_micro: 75.8, f1_macro: 72.0, pr_macro: 92.1, rec_macro: 68.5\n",
    "\n",
    "v6_2  \n",
    "acc_micro: 60.8, acc_macro: 63.4, f1_micro: 75.6, f1_macro: 70.8, pr_macro: 94.5, rec_macro: 66.3  \n",
    "\n",
    "v7. algo v2  \n",
    "acc_micro: 58.7, acc_macro: 61.7, f1_micro: 74.0, f1_macro: 70.1, pr_macro: 91.4, rec_macro: 66.3\n",
    "\n",
    "v8.  \n",
    "acc_micro: 61.7, acc_macro: 64.6, f1_micro: 76.3, f1_macro: 72.1, pr_macro: 93.1, rec_macro: 68.2  \n",
    "\n",
    "v2  \n",
    "Default.  \n",
    "acc_micro: 61.6, acc_macro: 64.1, f1_micro: 76.2, f1_macro: 71.4, pr_macro: 94.8, rec_macro: 66.8, speed: 4.57it/s  \n",
    "                        \n",
    "mser+swt   \n",
    "acc_micro: 62.1, acc_macro: 64.5, f1_micro: 76.6, f1_macro: 71.9, pr_macro: 94.4, rec_macro: 67.5  3.18it/s (медленнее на 43%)\n",
    "\n",
    "\n",
    "mser+swt. optimized params.  \n",
    "acc_micro: 63.0, acc_macro: 65.4, f1_micro: 77.3, f1_macro: 72.6, pr_macro: 94.2, rec_macro: 68.4  2.13it/s 3.49it/s\n",
    "\n",
    "switched filters, optimized threshold  \n",
    "acc_micro: 61.5, acc_macro: 64.0, f1_micro: 76.2, f1_macro: 71.3, pr_macro: 94.8, rec_macro: 66.7 speed 6.04it/s  \n",
    "\n",
    "switched filters, not optimized threshold   \n",
    "acc_micro: 60.5, acc_macro: 62.8, f1_micro: 75.4, f1_macro: 70.3, pr_macro: 94.9, rec_macro: 65.4  \n",
    "\n",
    "swt only  \n",
    "acc_micro: 47.8, acc_macro: 49.3, f1_micro: 64.7, f1_macro: 57.2, pr_macro: 96.8, rec_macro: 50.4 speed 7.79it/s"
   ]
  },
  {
   "cell_type": "markdown",
   "metadata": {},
   "source": [
    "Train\n",
    "\n",
    "mser+swt  \n",
    "acc_micro: 63.3, acc_macro: 66.4, f1_micro: 77.5, f1_macro: 73.6, pr_macro: 94.9, rec_macro: 69.1 speed 3.84it/s   4.24it/s\n",
    "\n",
    "mser  \n",
    "acc_micro: 62.9, acc_macro: 65.9, f1_micro: 77.2, f1_macro: 73.1, pr_macro: 95.3, rec_macro: 68.4 speed  5.01it/s 4.42it/s\n",
    "\n",
    "\n",
    "Algo Ver3. prev params  \n",
    "acc_micro: 60.7, acc_macro: 63.7, f1_micro: 75.6, f1_macro: 70.8, pr_macro: 95.2, rec_macro: 66.1  \n",
    "\n",
    "Algo Ver3. New params: acc macro optimiziation  \n",
    "acc_micro: 61.8, acc_macro: 65.0, f1_micro: 76.4, f1_macro: 72.3, pr_macro: 94.9, rec_macro: 67.8  "
   ]
  },
  {
   "cell_type": "markdown",
   "metadata": {},
   "source": [
    "On Validation. Hyperparam search.  \n",
    "\n",
    "**Schwarzkopf**           \n",
    "gt .2\n",
    "acc_micro: 60.6, acc_macro: 63.1, f1_micro: 75.5, f1_macro: 70.4  \n",
    "\n",
    "**New space, fixed param bug**    \n",
    "acc_micro: 61.0, acc_macro: 63.4, f1_micro: 75.8, f1_macro: 70.6  \n",
    "\n",
    "**New params. More steps**  \n",
    "acc_micro: 61.0, acc_macro: 63.5, f1_micro: 75.8, f1_macro: 70.8  \n",
    "\n",
    "**New params. More steps2**  \n",
    "acc_micro: 61.2, acc_macro: 63.6, f1_micro: 75.9, f1_macro: 71.0\n",
    "\n",
    "**New params. More steps (plus new algo v2)**  \n",
    "acc_micro: 61.2, acc_macro: 63.8, f1_micro: 75.9, f1_macro: 71.1  \n",
    "\n",
    "**New params. More steps (plus new algo v3)**  \n",
    "acc_micro: 61.2, acc_macro: 63.9, f1_micro: 76.0, f1_macro: 71.1  \n",
    "\n",
    "**New params. More steps (plus new algo v4)**  \n",
    "acc_micro: 61.2, acc_macro: 63.8, f1_micro: 75.9, f1_macro: 71.1  \n",
    "\n",
    "**New params. More steps2 (algo ver4)**  \n",
    "acc_micro: 61.6, acc_macro: 64.0, f1_micro: 76.2, f1_macro: 71.4  \n",
    "\n",
    "**Same. first 2 filters switched**  \n",
    "acc_micro: 61.6, acc_macro: 64.1, f1_micro: 76.2, f1_macro: 71.4\n",
    "\n",
    "\n",
    "64.0 - 58.9=5.1"
   ]
  },
  {
   "cell_type": "markdown",
   "metadata": {},
   "source": [
    "On Validation. Default params.  \n",
    "**Schwarzkopf**    \n",
    "**Changed metrics**  \n",
    "**Before resize issue with train**  \n",
    "acc_micro: 55.2, acc_macro: 57.5, f1_micro: 71.2, f1_macro: 64.6  \n",
    "\n",
    "**After fixing resize issue(same scale x/y)**  \n",
    "acc_micro: 55.8, acc_macro: 58.0, f1_micro: 71.6, f1_macro: 65.0\n",
    "\n",
    "diff scale x/y  (gt_thresh .5)  \n",
    "acc_micro: 56.6, acc_macro: 58.7, f1_micro: 72.3, f1_macro: 65.6  \n",
    "gt_thresh .4   \n",
    "acc_micro: 56.9, acc_macro: 58.8, f1_micro: 72.5, f1_macro: 65.8  \n",
    "gt_thresh .6  \n",
    "acc_micro: 56.9, acc_macro: 58.8, f1_micro: 72.5, f1_macro: 65.8\n",
    "\n",
    "gt_thresh .2  \n",
    "acc_micro: 57.0, acc_macro: 58.9, f1_micro: 72.6, f1_macro: 65.9  "
   ]
  },
  {
   "cell_type": "markdown",
   "metadata": {},
   "source": [
    "**Schwarzkopf**  \n",
    "***Hyperparams***    \n",
    "gt_thresh .2  \n",
    "acc_micro: 61.3, acc_macro: 64.6, f1_micro: 76.0, f1_macro: 71.9   \n",
    "\n",
    "**New space, fixed param bug**  \n",
    "acc_micro: 61.9, acc_macro: 64.9, f1_micro: 76.5, f1_macro: 72.1   \n",
    "\n",
    "**Find params. More steps**  \n",
    "acc_micro: 62.0, acc_macro: 65.2, f1_micro: 76.6, f1_macro: 72.4\n",
    "\n",
    "**new algo version1. new params**  \n",
    "acc_micro: 62.1, acc_macro: 65.2, f1_micro: 76.7, f1_macro: 72.4  \n",
    "\n",
    "**New algo version2. same params**  \n",
    "acc_micro: 62.2, acc_macro: 65.3, f1_micro: 76.7, f1_macro: 72.5  \n",
    "\n",
    "**New algo version3. same params**  \n",
    "acc_micro: 62.4, acc_macro: 65.4, f1_micro: 76.8, f1_macro: 72.6  \n",
    "\n",
    "**New algo version4. same params**  \n",
    "acc_micro: 62.4, acc_macro: 65.4, f1_micro: 76.8, f1_macro: 72.6  \n",
    "\n",
    "**New params2. No divide algo**  \n",
    "acc_micro: 62.5, acc_macro: 65.6, f1_micro: 76.9, f1_macro: 72.8  \n",
    "\n",
    "\n",
    "**New params2. New algo version4. Max side 120**  \n",
    "acc_micro: 62.9, acc_macro: 65.9, f1_micro: 77.2, f1_macro: 73.1  \n",
    "\n",
    "**New params2. New algo version4. Max side 200**   \n",
    "acc_micro: 63.9, acc_macro: 66.8, f1_micro: 78.0, f1_macro: 73.9    \n",
    "\n",
    "**New params3. Divide algo optimized**  \n",
    "acc_micro: 63.0, acc_macro: 66.1, f1_micro: 77.3, f1_macro: 73.2\n",
    "\n",
    "***Default algo params***  \n",
    "**Default area, ar params(same scale x/y)**  \n",
    "acc_micro: 56.6, acc_macro: 59.7, f1_micro: 72.3, f1_macro: 66.7\n",
    "\n",
    "**Fix scaling (diff scale x/y)**   \n",
    "gt_thresh .5  \n",
    "acc_micro: 57.3, acc_macro: 60.2, f1_micro: 72.8, f1_macro: 67.2  \n",
    "\n",
    "gt_thresh .4  \n",
    "acc_micro: 57.9, acc_macro: 60.6, f1_micro: 73.4, f1_macro: 67.6\n",
    "\n",
    "gt_thresh .3  \n",
    "acc_micro: 58.1, acc_macro: 60.7, f1_micro: 73.5, f1_macro: 67.7  \n",
    "\n",
    "gt_thresh .2  \n",
    "acc_micro: 58.2, acc_macro: 60.7, f1_micro: 73.5, f1_macro: 67.7 \n",
    "\n",
    "gt_thresh .1  \n",
    "acc_micro: 58.2, acc_macro: 60.7, f1_micro: 73.6, f1_macro: 67.7  "
   ]
  },
  {
   "cell_type": "markdown",
   "metadata": {},
   "source": [
    "**grad pruning**  \n",
    "чекаем что угол не сильно отличается.  \n",
    "acc_micro: 62.6, acc_macro: 65.6, f1_micro: 77.0, f1_macro: 72.8  \n",
    "\n",
    "check that edge intensity is high enoough before deleting point (14 минут инференс)   \n",
    "acc_micro: 62.2, acc_macro: 65.1, f1_micro: 76.7, f1_macro: 72.4  \n",
    "\n",
    "no preprocessing blur. step in direction of angle from edge and delete point from region, max_len 3    \n",
    "acc_micro: 62.0, acc_macro: 64.9, f1_micro: 76.5, f1_macro: 72.2\n",
    "\n",
    "preprocessing median blur. step in direction of angle from edge and delete point from region, max_len 3    \n",
    "acc_micro: 62.1, acc_macro: 65.1, f1_micro: 76.6, f1_macro: 72.3\n",
    "\n",
    "gaussian blur before gradients  \n",
    "acc_micro: 62.6, acc_macro: 65.7, f1_micro: 77.0, f1_macro: 72.9  \n",
    "\n",
    "median blur before gradients  \n",
    "acc_micro: 62.7, acc_macro: 65.7, f1_micro: 77.1, f1_macro: 73.0\n",
    "\n",
    "threshold - middle between median and max  \n",
    "acc_micro: 62.6, acc_macro: 65.6, f1_micro: 77.0, f1_macro: 72.8  \n",
    "\n",
    "threshold - median  \n",
    "acc_micro: 62.0, acc_macro: 64.9, f1_micro: 76.5, f1_macro: 72.0  \n",
    "\n",
    "default  \n",
    "acc_micro: 62.9, acc_macro: 65.9, f1_micro: 77.2, f1_macro: 73.1  "
   ]
  },
  {
   "cell_type": "markdown",
   "metadata": {},
   "source": [
    "On Train.   \n",
    "**Mars**  \n",
    "**Default params**  \n",
    "acc_micro: 58.7, acc_macro: 59.7, f1_micro: 74.0, f1_macro: 65.8\n",
    "\n",
    "\n",
    "On Validation. Default params.  \n",
    "**Mars**  \n",
    "acc_micro: 59.0, acc_macro: 59.7, f1_micro: 74.2, f1_macro: 65.9"
   ]
  },
  {
   "cell_type": "code",
   "execution_count": null,
   "metadata": {},
   "outputs": [],
   "source": []
  }
 ],
 "metadata": {
  "kernelspec": {
   "display_name": "Python 3",
   "language": "python",
   "name": "python3"
  },
  "language_info": {
   "codemirror_mode": {
    "name": "ipython",
    "version": 3
   },
   "file_extension": ".py",
   "mimetype": "text/x-python",
   "name": "python",
   "nbconvert_exporter": "python",
   "pygments_lexer": "ipython3",
   "version": "3.6.9"
  }
 },
 "nbformat": 4,
 "nbformat_minor": 4
}
